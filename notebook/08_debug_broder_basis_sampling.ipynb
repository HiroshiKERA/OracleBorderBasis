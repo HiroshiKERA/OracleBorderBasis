{
 "cells": [
  {
   "cell_type": "code",
   "execution_count": 1,
   "metadata": {},
   "outputs": [
    {
     "name": "stdout",
     "output_type": "stream",
     "text": [
      "/app\n"
     ]
    }
   ],
   "source": [
    "%cd '/app'"
   ]
  },
  {
   "cell_type": "code",
   "execution_count": 2,
   "metadata": {},
   "outputs": [],
   "source": [
    "%load_ext autoreload\n",
    "%autoreload 2"
   ]
  },
  {
   "cell_type": "code",
   "execution_count": 5,
   "metadata": {},
   "outputs": [],
   "source": [
    "from sage.all import *\n",
    "import sys\n",
    "sys.path.append('src')\n",
    "\n",
    "from time import time\n",
    "\n",
    "import numpy as np\n",
    "from src.border_basis_lib.border_basis_sampling import BorderBasisGenerator\n",
    "from src.border_basis_lib.plot import plot_order_ideals, plot_order_ideal\n",
    "from src.border_basis_lib.utils import is_order_ideal"
   ]
  },
  {
   "cell_type": "code",
   "execution_count": 8,
   "metadata": {},
   "outputs": [],
   "source": [
    "degree_bounds = [2, 2]\n",
    "degree_lower_bounds = [0, 0]\n",
    "\n",
    "n = len(degree_bounds)\n",
    "ring = PolynomialRing(GF(7), ['x', 'y'], order='degrevlex')\n",
    "generator = BorderBasisGenerator(ring)\n",
    "\n",
    "ret = generator.random_border_basis(degree_bounds, total_degree_bound=5, degree_lower_bounds=degree_lower_bounds)\n",
    "\n",
    "O = ret['order']\n",
    "G = ret['basis']\n",
    "B = ret['border']\n",
    "P = ret['points']\n"
   ]
  },
  {
   "cell_type": "code",
   "execution_count": 9,
   "metadata": {},
   "outputs": [
    {
     "data": {
      "text/plain": [
       "[y^2 - y, x - 2]"
      ]
     },
     "execution_count": 9,
     "metadata": {},
     "output_type": "execute_result"
    }
   ],
   "source": [
    "ideal(G).groebner_basis()"
   ]
  },
  {
   "cell_type": "code",
   "execution_count": 324,
   "metadata": {},
   "outputs": [
    {
     "data": {
      "text/plain": [
       "[1]"
      ]
     },
     "execution_count": 324,
     "metadata": {},
     "output_type": "execute_result"
    }
   ],
   "source": [
    "ideal(F).groebner_basis()"
   ]
  },
  {
   "cell_type": "code",
   "execution_count": 299,
   "metadata": {},
   "outputs": [
    {
     "name": "stdout",
     "output_type": "stream",
     "text": [
      "O is order ideal: True\n",
      "[x, 1]\n",
      "\n",
      "points P: \n",
      "[1 6]\n",
      "[5 2]\n",
      "\n",
      "evaluation matrix O(P)=\n",
      "[1 1]\n",
      "[5 1]\n",
      "regularity of O(P): True\n"
     ]
    }
   ],
   "source": [
    "from src.border_basis_lib.utils import border, subs, is_regular, keyword_for_numbound, is_order_ideal\n",
    "\n",
    "print(f'O is order ideal: {is_order_ideal(O)}\\n{O}\\n')\n",
    "\n",
    "print(f'points P: \\n{P}\\n')\n",
    "\n",
    "print(f'evaluation matrix O(P)=\\n{subs(O, P)}')\n",
    "print(f'regularity of O(P): {is_regular(subs(O, P))}')"
   ]
  },
  {
   "cell_type": "code",
   "execution_count": 303,
   "metadata": {},
   "outputs": [
    {
     "data": {
      "text/plain": [
       "[0 0 0]\n",
       "[0 0 0]"
      ]
     },
     "execution_count": 303,
     "metadata": {},
     "output_type": "execute_result"
    }
   ],
   "source": [
    "\n",
    "O = [ring(o) for o in O]\n",
    "B = [ring(b) for b in B]\n",
    "\n",
    "OP = subs(O, P)\n",
    "BP = subs(B, P)\n",
    "\n",
    "M = BP.augment(OP)\n",
    "V = M.transpose().kernel().basis()\n",
    "# V\n",
    "\n",
    "M * Matrix(V).T"
   ]
  },
  {
   "cell_type": "code",
   "execution_count": 304,
   "metadata": {},
   "outputs": [
    {
     "data": {
      "text/plain": [
       "[{y: 2, x: 5}, {y: 6, x: 1}]"
      ]
     },
     "execution_count": 304,
     "metadata": {},
     "output_type": "execute_result"
    }
   ],
   "source": [
    "G = Matrix(B + O) * Matrix(V).T\n",
    "G = G[0]\n",
    "G = [ring(g) for g in G]\n",
    "ideal(G).variety()"
   ]
  },
  {
   "cell_type": "code",
   "execution_count": 305,
   "metadata": {},
   "outputs": [
    {
     "data": {
      "text/plain": [
       "[1 6]\n",
       "[5 2]"
      ]
     },
     "execution_count": 305,
     "metadata": {},
     "output_type": "execute_result"
    }
   ],
   "source": [
    "P"
   ]
  },
  {
   "cell_type": "code",
   "execution_count": 257,
   "metadata": {},
   "outputs": [
    {
     "data": {
      "text/plain": [
       "[2 2 0]\n",
       "[6 0 5]"
      ]
     },
     "execution_count": 257,
     "metadata": {},
     "output_type": "execute_result"
    }
   ],
   "source": [
    "subs(G, P)"
   ]
  },
  {
   "cell_type": "code",
   "execution_count": null,
   "metadata": {},
   "outputs": [],
   "source": []
  }
 ],
 "metadata": {
  "kernelspec": {
   "display_name": "SageMath 10.4",
   "language": "sage",
   "name": "sagemath"
  },
  "language_info": {
   "codemirror_mode": {
    "name": "ipython",
    "version": 3
   },
   "file_extension": ".py",
   "mimetype": "text/x-python",
   "name": "python",
   "nbconvert_exporter": "python",
   "pygments_lexer": "ipython3",
   "version": "3.10.12"
  }
 },
 "nbformat": 4,
 "nbformat_minor": 2
}
