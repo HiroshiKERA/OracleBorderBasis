{
 "cells": [
  {
   "cell_type": "code",
   "execution_count": 14,
   "metadata": {
    "vscode": {
     "languageId": "python"
    }
   },
   "outputs": [
    {
     "name": "stdout",
     "output_type": "stream",
     "text": [
      "/app\n"
     ]
    }
   ],
   "source": [
    "%cd '/app'"
   ]
  },
  {
   "cell_type": "code",
   "execution_count": 15,
   "metadata": {
    "vscode": {
     "languageId": "python"
    }
   },
   "outputs": [
    {
     "name": "stdout",
     "output_type": "stream",
     "text": [
      "The autoreload extension is already loaded. To reload it, use:\n",
      "  %reload_ext autoreload\n"
     ]
    }
   ],
   "source": [
    "%load_ext autoreload\n",
    "%autoreload 2"
   ]
  },
  {
   "cell_type": "code",
   "execution_count": 16,
   "metadata": {
    "vscode": {
     "languageId": "python"
    }
   },
   "outputs": [],
   "source": [
    "import sys\n",
    "sys.path.append('src')"
   ]
  },
  {
   "cell_type": "markdown",
   "metadata": {},
   "source": [
    "### Loading border basis dataset "
   ]
  },
  {
   "cell_type": "code",
   "execution_count": 17,
   "metadata": {
    "vscode": {
     "languageId": "python"
    }
   },
   "outputs": [
    {
     "name": "stdout",
     "output_type": "stream",
     "text": [
      "C16 E0 E6 E0 + C26 E2 E3 E1 + C11 E1 E4 E1 + C4 E0 E5 E1 + C23 E1 E3 E2 + C5 E0 E4 E2 + C16 E1 E4 E0 + C7 E0 E5 E0 + C2 E1 E3 E1 + C5 E0 E4 E1 + C6 E1 E2 E2 + C13 E0 E3 E2 + C11 E1 E1 E3 + C7 E0 E2 E3 + C1 E0 E1 E4 + C12 E1 E3 E0 + C28 E0 E4 E0 + C21 E2 E1 E1 + C26 E1 E2 E1 + C13 E0 E3 E1 + C28 E1 E1 E2 + C2 E0 E2 E2 + C27 E0 E1 E3 + C8 E2 E1 E0 + C22 E1 E2 E0 + C7 E0 E3 E0 + C8 E2 E0 E1 + C11 E1 E1 E1 + C26 E0 E2 E1 + C20 E1 E0 E2 + C26 E0 E1 E2 + C28 E0 E0 E3 + C3 E1 E1 E0 + C9 E0 E2 E0 + C8 E1 E0 E1 + C6 E0 E1 E1 + C10 E1 E0 E0 + C14 E0 E1 E0 + C19 E0 E0 E1 + C22 E0 E0 E0 [SEP] C20 E3 E2 E0 + C16 E1 E4 E0 + C22 E1 E3 E1 + C1 E0 E2 E3 + C21 E3 E1 E0 + C28 E1 E3 E0 + C13 E0 E4 E0 + C10 E3 E0 E1 + C8 E1 E2 E1 + C5 E0 E3 E1 + C27 E0 E2 E2 + C10 E3 E0 E0 + C1 E2 E1 E0 + C27 E1 E2 E0 + C24 E0 E3 E0 + C22 E1 E1 E1 + C30 E0 E2 E1 + C28 E0 E1 E2 + C29 E2 E0 E0 + C12 E1 E1 E0 + C11 E0 E2 E0 + C15 E0 E1 E1 + C16 E0 E0 E2 + C7 E1 E0 E0 + C11 E0 E1 E0 + C16 E0 E0 E1 + C16 E0 E0 E0 [SEP] C11 E0 E6 E0 + C12 E2 E3 E1 + C8 E0 E4 E2 + C12 E1 E2 E3 + C4 E3 E2 E0 + C10 E0 E5 E0 + C27 E3 E1 E1 + C22 E2 E2 E1 + C30 E0 E4 E1 + C3 E1 E2 E2 + C17 E2 E2 E0 + C7 E1 E3 E0 + C12 E0 E4 E0 + C14 E2 E1 E1 + C13 E1 E2 E1 + C7 E0 E3 E1 + C26 E1 E1 E2 + C16 E0 E2 E2 + C3 E2 E1 E0 + C11 E1 E2 E0 + C14 E0 E3 E0 + C10 E2 E0 E1 + C7 E1 E1 E1 + C25 E0 E2 E1 + C15 E0 E1 E2 + C9 E2 E0 E0 + C30 E1 E1 E0 + C12 E0 E2 E0 + C26 E1 E0 E1 + C23 E0 E1 E1 + C11 E0 E0 E2 + C10 E1 E0 E0 + C15 E0 E1 E0 + C20 E0 E0 E1 + C29 E0 E0 E0 [SEP] C8 E2 E2 E1 + C16 E2 E2 E0 + C23 E1 E3 E0 + C9 E0 E4 E0 + C29 E2 E1 E1 + C26 E1 E2 E1 + C2 E0 E3 E1 + C2 E2 E0 E2 + C7 E0 E2 E2 + C19 E2 E1 E0 + C4 E1 E2 E0 + C18 E0 E3 E0 + C2 E2 E0 E1 + C19 E0 E2 E1 + C15 E1 E1 E0 + C10 E0 E2 E0 + C28 E1 E0 E1 + C28 E0 E1 E1 + C2 E1 E0 E0 + C16 E0 E1 E0 + C29 E0 E0 E1 + C20 E0 E0 E0 [SEP] C10 E3 E2 E0 + C27 E1 E4 E0 + C7 E3 E1 E1 + C15 E1 E3 E1 + C24 E0 E1 E4 + C3 E3 E1 E0 + C17 E2 E2 E0 + C14 E0 E4 E0 + C19 E0 E3 E1 + C28 E0 E1 E3 + C10 E3 E0 E0 + C12 E2 E1 E0 + C2 E1 E2 E0 + C20 E0 E3 E0 + C11 E2 E0 E1 + C20 E1 E1 E1 + C21 E0 E0 E3 + C19 E2 E0 E0 + C17 E1 E1 E0 + C19 E0 E2 E0 + C15 E0 E1 E1 + C16 E1 E0 E0 + C19 E0 E1 E0 + C18 E0 E0 E0 [SEP] C8 E2 E3 E0 + C4 E0 E4 E1 + C28 E1 E1 E3 + C27 E2 E2 E0 + C15 E0 E4 E0 + C8 E1 E2 E1 + C8 E0 E3 E1 + C12 E1 E1 E2 + C2 E0 E2 E2 + C22 E0 E1 E3 + C1 E2 E1 E0 + C6 E0 E3 E0 + C21 E1 E1 E1 + C23 E0 E2 E1 + C9 E1 E0 E2 + C22 E0 E1 E2 + C12 E2 E0 E0 + C7 E1 E1 E0 + C18 E0 E2 E0 + C22 E1 E0 E1 + C11 E0 E1 E1 + C27 E0 E0 E2 + C19 E1 E0 E0 + C3 E0 E1 E0 + C7 E0 E0 E1 + C16 E0 E0 E0 [SEP] C20 E3 E3 E0 + C15 E2 E3 E1 + C1 E1 E2 E3 + C25 E2 E3 E0 + C28 E1 E4 E0 + C30 E1 E3 E1 + C12 E0 E2 E3 + C6 E2 E2 E0 + C17 E1 E3 E0 + C23 E2 E1 E1 + C10 E1 E2 E1 + C14 E0 E3 E1 + C13 E0 E2 E2 + C7 E0 E1 E3 + C4 E3 E0 E0 + C19 E1 E2 E0 + C12 E0 E3 E0 + C26 E1 E1 E1 + C14 E0 E2 E1 + C4 E0 E1 E2 + C7 E0 E0 E3 + C11 E2 E0 E0 + C8 E1 E1 E0 + C12 E0 E2 E0 + C15 E1 E0 E1 + C13 E0 E1 E1 + C5 E0 E0 E2 + C30 E1 E0 E0 + C21 E0 E1 E0 + C22 E0 E0 E1 + C15 E0 E0 E0 [SEP] C7 E1 E3 E0 + C4 E1 E2 E0 + C15 E0 E3 E0 + C30 E0 E2 E1 + C24 E1 E1 E0 + C27 E0 E2 E0 + C5 E1 E0 E1 + C25 E0 E1 E1 + C24 E0 E0 E2 + C2 E1 E0 E0 + C17 E0 E1 E0 + C20 E0 E0 E1 + C23 E0 E0 E0\n",
      "C1 E1 E2 E0 + C12 E0 E2 E0 + C24 E0 E1 E0 + C7 E0 E0 E0 [SEP] C1 E0 E3 E0 + C15 E0 E2 E0 + C18 E0 E1 E0 + C17 E0 E0 E0 [SEP] C1 E0 E2 E1 + C27 E0 E2 E0 + C28 E0 E1 E0 [SEP] C1 E1 E1 E0 + C16 E0 E2 E0 + C4 E0 E1 E0 + C2 E0 E0 E0 [SEP] C1 E0 E1 E1 + C27 E0 E1 E0 + C28 E0 E0 E0 [SEP] C9 E0 E2 E0 + C1 E1 E0 E0 + C27 E0 E1 E0 + C11 E0 E0 E0 [SEP] C2 E0 E2 E0 + C30 E0 E1 E0 + C1 E0 E0 E1 + C1 E0 E0 E0\n"
     ]
    }
   ],
   "source": [
    "import os\n",
    "from pathlib import Path\n",
    "from src.loader.data import load_data\n",
    "from src.loader.data_format.processors.base import ProcessorChain\n",
    "from src.loader.tokenizer import set_vocab, set_tokenizer\n",
    "\n",
    "# load config\n",
    "import yaml\n",
    "with open('config/problems/border_basis.yaml', 'r') as f:\n",
    "    config = yaml.safe_load(f)\n",
    "\n",
    "# set up vocab and tokenizer\n",
    "vocab = set_vocab(\n",
    "    num_vars=config['ring']['num_variables'],\n",
    "    field=f\"{config['field']['type']}{config['field']['param']}\",\n",
    "    max_coeff=config['polynomial']['coefficient']['max'],\n",
    "    max_degree=config['polynomial']['max_degree']\n",
    ")\n",
    "tokenizer = set_tokenizer(vocab, max_seq_length=1000)\n",
    "\n",
    "# data path\n",
    "data_path = f\"/app/data/border_basis/GF31_n={config['ring']['num_variables']}/test\"\n",
    "\n",
    "# load test dataset\n",
    "test_dataset, data_collator = load_data(\n",
    "    data_path=data_path,\n",
    "    splits=[{\"name\": \"test\", \"batch_size\": 32, \"shuffle\": False}],\n",
    "    tokenizer=tokenizer,\n",
    "    return_dataloader=False\n",
    ")\n",
    "\n",
    "id = 2\n",
    "input_text = test_dataset[id]['input']\n",
    "target_text = test_dataset[id]['target']\n",
    "\n",
    "print(input_text)\n",
    "print(target_text)\n"
   ]
  },
  {
   "cell_type": "markdown",
   "metadata": {},
   "source": [
    "### Retrieve SageMath objects"
   ]
  },
  {
   "cell_type": "code",
   "execution_count": 18,
   "metadata": {
    "vscode": {
     "languageId": "python"
    }
   },
   "outputs": [],
   "source": [
    "from sage.all import *\n",
    "from src.dataset.processors.utils import sequence_to_poly, poly_to_sequence, get_field\n",
    "\n",
    "field_name = f\"{config['field']['type']}{config['field']['param']}\"\n",
    "field = get_field(field_name)\n",
    "# ring = PolynomialRing(field, ['x', 'y', 'z'], order='degrevlex')\n",
    "ring = PolynomialRing(field, 'x', config['ring']['num_variables'], order='degrevlex')\n",
    "\n",
    "F = [sequence_to_poly(f_text, ring) for f_text in input_text.split(' [SEP] ')]\n",
    "BB = [sequence_to_poly(g_text, ring) for g_text in target_text.split(' [SEP] ')]"
   ]
  },
  {
   "cell_type": "code",
   "execution_count": 19,
   "metadata": {
    "vscode": {
     "languageId": "python"
    }
   },
   "outputs": [
    {
     "data": {
      "text/plain": [
       "[{x2: 29, x1: 15, x0: 8}, {x2: 26, x1: 10, x0: 28}, {x2: 14, x1: 22, x0: 30}]"
      ]
     },
     "execution_count": 19,
     "metadata": {},
     "output_type": "execute_result"
    }
   ],
   "source": [
    "ideal(BB).variety()"
   ]
  },
  {
   "cell_type": "code",
   "execution_count": 20,
   "metadata": {
    "vscode": {
     "languageId": "python"
    }
   },
   "outputs": [
    {
     "data": {
      "text/plain": [
       "True"
      ]
     },
     "execution_count": 20,
     "metadata": {},
     "output_type": "execute_result"
    }
   ],
   "source": [
    "ideal(BB) == ideal(F)"
   ]
  },
  {
   "cell_type": "markdown",
   "metadata": {},
   "source": [
    "### Run border basis calculator"
   ]
  },
  {
   "cell_type": "code",
   "execution_count": 21,
   "metadata": {
    "vscode": {
     "languageId": "python"
    }
   },
   "outputs": [
    {
     "name": "stdout",
     "output_type": "stream",
     "text": [
      "CPU times: user 121 ms, sys: 0 ns, total: 121 ms\n",
      "Wall time: 120 ms\n"
     ]
    },
    {
     "data": {
      "text/plain": [
       "[[x0^2*x2^2,\n",
       "  x1*x2^4,\n",
       "  x0^3*x1*x2,\n",
       "  x0*x1^2*x2^3,\n",
       "  x1^4*x2^2,\n",
       "  x0*x1^3*x2^2,\n",
       "  x1^5*x2,\n",
       "  x0*x1^4*x2,\n",
       "  x0^2*x1^3*x2,\n",
       "  x1^6,\n",
       "  x0^3*x1^3],\n",
       " [x1^6 - 10*x0^2*x1^3*x2 - 9*x0*x1^4*x2 + 8*x1^5*x2 + 15*x0*x1^3*x2^2 + 10*x1^4*x2^2 + x0*x1^4 + 14*x1^5 + 4*x0*x1^3*x2 + 10*x1^4*x2 + 12*x0*x1^2*x2^2 - 5*x1^3*x2^2 - 9*x0*x1*x2^3 + 14*x1^2*x2^3 + 2*x1*x2^4 - 7*x0*x1^3 - 6*x1^4 + 11*x0^2*x1*x2 - 10*x0*x1^2*x2 - 5*x1^3*x2 - 6*x0*x1*x2^2 + 4*x1^2*x2^2 - 8*x1*x2^3 - 15*x0^2*x1 + 13*x0*x1^2 + 14*x1^3 - 15*x0^2*x2 - 9*x0*x1*x2 - 10*x1^2*x2 + 9*x0*x2^2 - 10*x1*x2^2 - 6*x2^3 + 6*x0*x1 - 13*x1^2 - 15*x0*x2 + 12*x1*x2 - 11*x0 - 3*x1 + 7*x2 + 13,\n",
       "  x0^3*x1^2 + 7*x0*x1^4 - 2*x0*x1^3*x2 + 14*x1^2*x2^3 + 15*x0^3*x1 - 11*x0*x1^3 - 4*x1^4 - 15*x0^3*x2 - 12*x0*x1^2*x2 + 8*x1^3*x2 + 6*x1^2*x2^2 - 15*x0^3 + 14*x0^2*x1 + 6*x0*x1^2 - 5*x1^3 - 2*x0*x1*x2 - 14*x1^2*x2 - 11*x1*x2^2 + 3*x0^2 + 13*x0*x1 - x1^2 - 7*x1*x2 + 7*x2^2 + 5*x0 - x1 + 7*x2 + 7,\n",
       "  x0^2*x1^3*x2 - 3*x0*x1^4*x2 + 13*x1^5*x2 + 5*x0*x1^3*x2^2 - 11*x1^4*x2^2 - 6*x0*x1^2*x2^3 - 2*x0^3*x1^2 - 10*x0*x1^4 + 10*x1^5 + 2*x0^3*x1*x2 - 11*x0^2*x1^2*x2 - 9*x0*x1^3*x2 + 9*x1^4*x2 - 13*x0*x1^2*x2^2 - 12*x1^3*x2^2 - 3*x0*x1*x2^3 + 15*x1^2*x2^3 + 11*x1*x2^4 + 7*x0^2*x1^2 - 11*x0*x1^3 - 8*x1^4 + 7*x0^2*x1*x2 - 15*x0*x1^2*x2 - 15*x0*x1*x2^2 + 14*x1^2*x2^2 - 13*x1*x2^3 + 9*x0^2*x1 + 4*x0*x1^2 + 8*x1^3 - 10*x0^2*x2 + 9*x0*x1*x2 + 10*x1^2*x2 + 3*x0*x2^2 + 15*x1*x2^2 - 2*x2^3 + 11*x0^2 - 13*x0*x1 + 13*x0*x2 + 8*x1*x2 + 10*x2^2 + 12*x0 + 7*x1 + 13*x2 - 5,\n",
       "  x0^2*x1^2*x2 + 2*x0^2*x1^2 - x0*x1^3 + 5*x1^4 - 8*x0^2*x1*x2 + 11*x0*x1^2*x2 + 8*x1^3*x2 + 8*x0^2*x2^2 - 3*x1^2*x2^2 + 14*x0^2*x1 - 15*x0*x1^2 + 10*x1^3 + 8*x0^2*x2 + 14*x1^2*x2 - 2*x0*x1 + 9*x1^2 - 12*x0*x2 - 12*x1*x2 + 8*x0 + 2*x1 - 8*x2 - 13,\n",
       "  x0*x1^4 + 2*x0^3*x1*x2 + 10*x0*x1^3*x2 - 9*x1^2*x2^3 - 2*x1*x2^4 - 11*x0^3*x1 - 4*x0^2*x1^2 - 4*x0*x1^3 + 11*x1^4 + 3*x0^3*x2 - 10*x0*x1^2*x2 - 13*x1^3*x2 + 5*x1^2*x2^2 + 8*x1*x2^3 - 3*x0^3 - 10*x0^2*x1 + 10*x0*x1^2 - 11*x1^3 + 12*x0^2*x2 + 7*x0*x1*x2 + 9*x1^2*x2 - 4*x1*x2^2 + 6*x2^3 - 12*x0^2 + 12*x0*x1 - 5*x1^2 + 11*x1*x2 + 11*x2^2 + 8*x0 - 5*x1 + 11*x2 - 6,\n",
       "  x0^2*x1^3 - 15*x1^4*x2 - 12*x0*x1*x2^3 + 15*x0^2*x1^2 - 2*x1^4 + x0*x1^2*x2 + x1^3*x2 - 14*x0*x1*x2^2 + 8*x1^2*x2^2 - 5*x1*x2^3 + 4*x0^2*x1 - 7*x1^3 - 9*x0*x1*x2 - x1^2*x2 + 5*x0*x2^2 - 5*x1*x2^2 - 14*x0^2 - 3*x0*x1 + 10*x1^2 - 5*x0*x2 + 13*x1*x2 + 15*x2^2 + 14*x0 + 12*x1 - 3*x2 + 2,\n",
       "  x0^3*x1^3 - 7*x0^2*x1^3*x2 + 14*x0*x1^2*x2^3 + 9*x0^2*x1^3 - 11*x0*x1^4 - 14*x0*x1^3*x2 + 13*x1^2*x2^3 - 9*x0^2*x1^2 - 10*x0*x1^3 + 12*x0^2*x1*x2 - 15*x0*x1^2*x2 + 10*x1^3*x2 - 4*x1^2*x2^2 + 5*x1*x2^3 - 6*x0^3 - 13*x0*x1^2 + 13*x1^3 - 8*x0*x1*x2 + 10*x1^2*x2 - 6*x1*x2^2 + 5*x2^3 - x0^2 - 12*x0*x1 + 13*x1^2 - 7*x0*x2 - 4*x1*x2 + 8*x2^2 - 14*x0 + 15*x1 - 2*x2 - 7,\n",
       "  x0*x1^3 + 5*x0*x1^2 + 11*x1^3 - 9*x1^2*x2 - x0*x1 - 5*x1^2 + 14*x0*x2 + 8*x1*x2 - x2^2 - 13*x0 - 2*x1 - 6*x2 - 10],\n",
       " [x0^3*x1^2*x2 + 2*x0^3*x1^2 - x0^2*x1^3 + 5*x0*x1^4 - 8*x0^3*x1*x2 + 11*x0^2*x1^2*x2 + 8*x0*x1^3*x2 + 8*x0^3*x2^2 - 3*x0*x1^2*x2^2 + 14*x0^3*x1 - 15*x0^2*x1^2 + 10*x0*x1^3 + 8*x0^3*x2 + 14*x0*x1^2*x2 - 2*x0^2*x1 + 9*x0*x1^2 - 12*x0^2*x2 - 12*x0*x1*x2 + 8*x0^2 + 2*x0*x1 - 8*x0*x2 - 13*x0,\n",
       "  x0^2*x1^3*x2 + 2*x0^2*x1^3 - x0*x1^4 + 5*x1^5 - 8*x0^2*x1^2*x2 + 11*x0*x1^3*x2 + 8*x1^4*x2 + 8*x0^2*x1*x2^2 - 3*x1^3*x2^2 + 14*x0^2*x1^2 - 15*x0*x1^3 + 10*x1^4 + 8*x0^2*x1*x2 + 14*x1^3*x2 - 2*x0*x1^2 + 9*x1^3 - 12*x0*x1*x2 - 12*x1^2*x2 + 8*x0*x1 + 2*x1^2 - 8*x1*x2 - 13*x1,\n",
       "  x0*x1^5 + 2*x0^3*x1^2*x2 + 10*x0*x1^4*x2 - 9*x1^3*x2^3 - 2*x1^2*x2^4 - 11*x0^3*x1^2 - 4*x0^2*x1^3 - 4*x0*x1^4 + 11*x1^5 + 3*x0^3*x1*x2 - 10*x0*x1^3*x2 - 13*x1^4*x2 + 5*x1^3*x2^2 + 8*x1^2*x2^3 - 3*x0^3*x1 - 10*x0^2*x1^2 + 10*x0*x1^3 - 11*x1^4 + 12*x0^2*x1*x2 + 7*x0*x1^2*x2 + 9*x1^3*x2 - 4*x1^2*x2^2 + 6*x1*x2^3 - 12*x0^2*x1 + 12*x0*x1^2 - 5*x1^3 + 11*x1^2*x2 + 11*x1*x2^2 + 8*x0*x1 - 5*x1^2 + 11*x1*x2 - 6*x1,\n",
       "  x0^2*x1^3*x2 - 15*x1^4*x2^2 - 12*x0*x1*x2^4 + 15*x0^2*x1^2*x2 - 2*x1^4*x2 + x0*x1^2*x2^2 + x1^3*x2^2 - 14*x0*x1*x2^3 + 8*x1^2*x2^3 - 5*x1*x2^4 + 4*x0^2*x1*x2 - 7*x1^3*x2 - 9*x0*x1*x2^2 - x1^2*x2^2 + 5*x0*x2^3 - 5*x1*x2^3 - 14*x0^2*x2 - 3*x0*x1*x2 + 10*x1^2*x2 - 5*x0*x2^2 + 13*x1*x2^2 + 15*x2^3 + 14*x0*x2 + 12*x1*x2 - 3*x2^2 + 2*x2,\n",
       "  x0^2*x1^3 + 5*x0^2*x1^2 + 11*x0*x1^3 - 9*x0*x1^2*x2 - x0^2*x1 - 5*x0*x1^2 + 14*x0^2*x2 + 8*x0*x1*x2 - x0*x2^2 - 13*x0^2 - 2*x0*x1 - 6*x0*x2 - 10*x0,\n",
       "  x0*x1^4 + 5*x0*x1^3 + 11*x1^4 - 9*x1^3*x2 - x0*x1^2 - 5*x1^3 + 14*x0*x1*x2 + 8*x1^2*x2 - x1*x2^2 - 13*x0*x1 - 2*x1^2 - 6*x1*x2 - 10*x1,\n",
       "  x0*x1^3*x2 + 5*x0*x1^2*x2 + 11*x1^3*x2 - 9*x1^2*x2^2 - x0*x1*x2 - 5*x1^2*x2 + 14*x0*x2^2 + 8*x1*x2^2 - x2^3 - 13*x0*x2 - 2*x1*x2 - 6*x2^2 - 10*x2]]"
      ]
     },
     "execution_count": 21,
     "metadata": {},
     "output_type": "execute_result"
    }
   ],
   "source": [
    "%%time \n",
    "from src.border_basis_lib.improved_border_basis import ImprovedBorderBasisCalculator\n",
    "\n",
    "calculator = ImprovedBorderBasisCalculator(ring, corollary_23=True, N=100, save_universes=True, verbose=False)\n",
    "\n",
    "use_fast_elimination = True  # use gaussian_elimination_fast\n",
    "lstabilization_only = False  # only compute L-stable span\n",
    "\n",
    "G, O, _ = calculator.compute_border_basis_optimized(F,\n",
    "                                            use_fast_elimination=use_fast_elimination,\n",
    "                                            lstabilization_only=lstabilization_only)\n",
    "\n",
    "calculator.datasets[0][0]"
   ]
  },
  {
   "cell_type": "markdown",
   "metadata": {},
   "source": [
    "### Get expantion dataset "
   ]
  },
  {
   "cell_type": "code",
   "execution_count": 22,
   "metadata": {
    "vscode": {
     "languageId": "python"
    }
   },
   "outputs": [
    {
     "data": {
      "text/plain": [
       "'C16 E0 E6 E0 + C26 E2 E3 E1 + C11 E1 E4 E1 + C4 E0 E5 E1 + C23 E1 E3 E2 + C5 E0 E4 E2 + C16 E1 E4 E0 + C7 E0 E5 E0 + C2 E1 E3 E1 + C5 E0 E4 E1 + C6 E1 E2 E2 + C13 E0 E3 E2 + C11 E1 E1 E3 + C7 E0 E2 E3 + C1 E0 E1 E4 + C12 E1 E3 E0 + C28 E0 E4 E0 + C21 E2 E1 E1 + C26 E1 E2 E1 + C13 E0 E3 E1 + C28 E1 E1 E2 + C2 E0 E2 E2 + C27 E0 E1 E3 + C8 E2 E1 E0 + C22 E1 E2 E0 + C7 E0 E3 E0 + C8 E2 E0 E1 + C11 E1 E1 E1 + C26 E0 E2 E1 + C20 E1 E0 E2 + C26 E0 E1 E2 + C28 E0 E0 E3 + C3 E1 E1 E0 + C9 E0 E2 E0 + C8 E1 E0 E1 + C6 E0 E1 E1 + C10 E1 E0 E0 + C14 E0 E1 E0 + C19 E0 E0 E1 + C22 E0 E0 E0 [SEP] C20 E3 E2 E0 + C16 E1 E4 E0 + C22 E1 E3 E1 + C1 E0 E2 E3 + C21 E3 E1 E0 + C28 E1 E3 E0 + C13 E0 E4 E0 + C10 E3 E0 E1 + C8 E1 E2 E1 + C5 E0 E3 E1 + C27 E0 E2 E2 + C10 E3 E0 E0 + C1 E2 E1 E0 + C27 E1 E2 E0 + C24 E0 E3 E0 + C22 E1 E1 E1 + C30 E0 E2 E1 + C28 E0 E1 E2 + C29 E2 E0 E0 + C12 E1 E1 E0 + C11 E0 E2 E0 + C15 E0 E1 E1 + C16 E0 E0 E2 + C7 E1 E0 E0 + C11 E0 E1 E0 + C16 E0 E0 E1 + C16 E0 E0 E0 [SEP] C11 E0 E6 E0 + C12 E2 E3 E1 + C8 E0 E4 E2 + C12 E1 E2 E3 + C4 E3 E2 E0 + C10 E0 E5 E0 + C27 E3 E1 E1 + C22 E2 E2 E1 + C30 E0 E4 E1 + C3 E1 E2 E2 + C17 E2 E2 E0 + C7 E1 E3 E0 + C12 E0 E4 E0 + C14 E2 E1 E1 + C13 E1 E2 E1 + C7 E0 E3 E1 + C26 E1 E1 E2 + C16 E0 E2 E2 + C3 E2 E1 E0 + C11 E1 E2 E0 + C14 E0 E3 E0 + C10 E2 E0 E1 + C7 E1 E1 E1 + C25 E0 E2 E1 + C15 E0 E1 E2 + C9 E2 E0 E0 + C30 E1 E1 E0 + C12 E0 E2 E0 + C26 E1 E0 E1 + C23 E0 E1 E1 + C11 E0 E0 E2 + C10 E1 E0 E0 + C15 E0 E1 E0 + C20 E0 E0 E1 + C29 E0 E0 E0 [SEP] C8 E2 E2 E1 + C16 E2 E2 E0 + C23 E1 E3 E0 + C9 E0 E4 E0 + C29 E2 E1 E1 + C26 E1 E2 E1 + C2 E0 E3 E1 + C2 E2 E0 E2 + C7 E0 E2 E2 + C19 E2 E1 E0 + C4 E1 E2 E0 + C18 E0 E3 E0 + C2 E2 E0 E1 + C19 E0 E2 E1 + C15 E1 E1 E0 + C10 E0 E2 E0 + C28 E1 E0 E1 + C28 E0 E1 E1 + C2 E1 E0 E0 + C16 E0 E1 E0 + C29 E0 E0 E1 + C20 E0 E0 E0 [SEP] C10 E3 E2 E0 + C27 E1 E4 E0 + C7 E3 E1 E1 + C15 E1 E3 E1 + C24 E0 E1 E4 + C3 E3 E1 E0 + C17 E2 E2 E0 + C14 E0 E4 E0 + C19 E0 E3 E1 + C28 E0 E1 E3 + C10 E3 E0 E0 + C12 E2 E1 E0 + C2 E1 E2 E0 + C20 E0 E3 E0 + C11 E2 E0 E1 + C20 E1 E1 E1 + C21 E0 E0 E3 + C19 E2 E0 E0 + C17 E1 E1 E0 + C19 E0 E2 E0 + C15 E0 E1 E1 + C16 E1 E0 E0 + C19 E0 E1 E0 + C18 E0 E0 E0 [SEP] C8 E2 E3 E0 + C4 E0 E4 E1 + C28 E1 E1 E3 + C27 E2 E2 E0 + C15 E0 E4 E0 + C8 E1 E2 E1 + C8 E0 E3 E1 + C12 E1 E1 E2 + C2 E0 E2 E2 + C22 E0 E1 E3 + C1 E2 E1 E0 + C6 E0 E3 E0 + C21 E1 E1 E1 + C23 E0 E2 E1 + C9 E1 E0 E2 + C22 E0 E1 E2 + C12 E2 E0 E0 + C7 E1 E1 E0 + C18 E0 E2 E0 + C22 E1 E0 E1 + C11 E0 E1 E1 + C27 E0 E0 E2 + C19 E1 E0 E0 + C3 E0 E1 E0 + C7 E0 E0 E1 + C16 E0 E0 E0 [SEP] C20 E3 E3 E0 + C15 E2 E3 E1 + C1 E1 E2 E3 + C25 E2 E3 E0 + C28 E1 E4 E0 + C30 E1 E3 E1 + C12 E0 E2 E3 + C6 E2 E2 E0 + C17 E1 E3 E0 + C23 E2 E1 E1 + C10 E1 E2 E1 + C14 E0 E3 E1 + C13 E0 E2 E2 + C7 E0 E1 E3 + C4 E3 E0 E0 + C19 E1 E2 E0 + C12 E0 E3 E0 + C26 E1 E1 E1 + C14 E0 E2 E1 + C4 E0 E1 E2 + C7 E0 E0 E3 + C11 E2 E0 E0 + C8 E1 E1 E0 + C12 E0 E2 E0 + C15 E1 E0 E1 + C13 E0 E1 E1 + C5 E0 E0 E2 + C30 E1 E0 E0 + C21 E0 E1 E0 + C22 E0 E0 E1 + C15 E0 E0 E0 [SEP] C7 E1 E3 E0 + C4 E1 E2 E0 + C15 E0 E3 E0 + C30 E0 E2 E1 + C24 E1 E1 E0 + C27 E0 E2 E0 + C5 E1 E0 E1 + C25 E0 E1 E1 + C24 E0 E0 E2 + C2 E1 E0 E0 + C17 E0 E1 E0 + C20 E0 E0 E1 + C23 E0 E0 E0 [SEP] C1 E2 E0 E2 [SEP] C1 E0 E1 E4 [SEP] C1 E3 E1 E1 [SEP] C1 E1 E2 E3 [SEP] C1 E0 E4 E2 [SEP] C1 E1 E3 E2 [SEP] C1 E0 E5 E1 [SEP] C1 E1 E4 E1 [SEP] C1 E2 E3 E1 [SEP] C1 E0 E6 E0 [SEP] C1 E3 E3 E0 [SEP] C1 E0 E6 E0 + C21 E2 E3 E1 + C22 E1 E4 E1 + C8 E0 E5 E1 + C15 E1 E3 E2 + C10 E0 E4 E2 + C1 E1 E4 E0 + C14 E0 E5 E0 + C4 E1 E3 E1 + C10 E0 E4 E1 + C12 E1 E2 E2 + C26 E0 E3 E2 + C22 E1 E1 E3 + C14 E0 E2 E3 + C2 E0 E1 E4 + C24 E1 E3 E0 + C25 E0 E4 E0 + C11 E2 E1 E1 + C21 E1 E2 E1 + C26 E0 E3 E1 + C25 E1 E1 E2 + C4 E0 E2 E2 + C23 E0 E1 E3 + C16 E2 E1 E0 + C13 E1 E2 E0 + C14 E0 E3 E0 + C16 E2 E0 E1 + C22 E1 E1 E1 + C21 E0 E2 E1 + C9 E1 E0 E2 + C21 E0 E1 E2 + C25 E0 E0 E3 + C6 E1 E1 E0 + C18 E0 E2 E0 + C16 E1 E0 E1 + C12 E0 E1 E1 + C20 E1 E0 E0 + C28 E0 E1 E0 + C7 E0 E0 E1 + C13 E0 E0 E0 [SEP] C1 E3 E2 E0 + C7 E1 E4 E0 + C29 E1 E3 E1 + C14 E0 E2 E3 + C15 E3 E1 E0 + C20 E1 E3 E0 + C27 E0 E4 E0 + C16 E3 E0 E1 + C19 E1 E2 E1 + C8 E0 E3 E1 + C6 E0 E2 E2 + C16 E3 E0 E0 + C14 E2 E1 E0 + C6 E1 E2 E0 + C26 E0 E3 E0 + C29 E1 E1 E1 + C17 E0 E2 E1 + C20 E0 E1 E2 + C3 E2 E0 E0 + C13 E1 E1 E0 + C30 E0 E2 E0 + C24 E0 E1 E1 + C7 E0 E0 E2 + C5 E1 E0 E0 + C30 E0 E1 E0 + C7 E0 E0 E1 + C7 E0 E0 E0 [SEP] C1 E2 E3 E1 + C28 E1 E4 E1 + C13 E0 E5 E1 + C5 E1 E3 E2 + C20 E0 E4 E2 + C25 E1 E2 E3 + C29 E3 E2 E0 + C21 E1 E4 E0 + C10 E0 E5 E0 + C2 E3 E1 E1 + C20 E2 E2 E1 + C22 E1 E3 E1 + C9 E0 E4 E1 + C18 E1 E2 E2 + C19 E0 E3 E2 + C28 E1 E1 E3 + C15 E0 E2 E3 + C11 E0 E1 E4 + C7 E2 E2 E0 + C20 E1 E3 E0 + C23 E0 E4 E0 + C7 E2 E1 E1 + C16 E1 E2 E1 + C16 E1 E1 E2 + C14 E0 E2 E2 + C18 E0 E1 E3 + C9 E2 E1 E0 + C4 E1 E2 E0 + C8 E0 E3 E0 + C21 E2 E0 E1 + C9 E1 E1 E1 + C10 E0 E2 E1 + C3 E1 E0 E2 + C15 E0 E1 E2 + C29 E0 E0 E3 + C11 E2 E0 E0 + C18 E1 E1 E0 + C13 E1 E0 E1 + C8 E0 E1 E1 + C10 E0 E0 E2 + C12 E1 E0 E0 + C7 E0 E1 E0 + C13 E0 E0 E1 + C26 E0 E0 E0 [SEP] C1 E2 E2 E1 + C2 E2 E2 E0 + C30 E1 E3 E0 + C5 E0 E4 E0 + C23 E2 E1 E1 + C11 E1 E2 E1 + C8 E0 E3 E1 + C8 E2 E0 E2 + C28 E0 E2 E2 + C14 E2 E1 E0 + C16 E1 E2 E0 + C10 E0 E3 E0 + C8 E2 E0 E1 + C14 E0 E2 E1 + C29 E1 E1 E0 + C9 E0 E2 E0 + C19 E1 E0 E1 + C19 E0 E1 E1 + C8 E1 E0 E0 + C2 E0 E1 E0 + C23 E0 E0 E1 + C18 E0 E0 E0 [SEP] C1 E1 E4 E0 + C2 E3 E1 E1 + C10 E1 E3 E1 + C22 E0 E2 E3 + C29 E0 E1 E4 + C20 E3 E1 E0 + C27 E2 E2 E0 + C27 E1 E3 E0 + C11 E0 E4 E0 + C3 E3 E0 E1 + C21 E1 E2 E1 + C18 E0 E3 E1 + C5 E0 E2 E2 + C8 E0 E1 E3 + C28 E3 E0 E0 + C21 E2 E1 E0 + C10 E1 E2 E0 + C20 E0 E3 E0 + C12 E2 E0 E1 + C7 E1 E1 E1 + C9 E0 E2 E1 + C27 E0 E1 E2 + C6 E0 E0 E3 + C19 E2 E0 E0 + C12 E1 E1 E0 + C26 E0 E2 E0 + C11 E0 E1 E1 + C11 E0 E0 E2 + C8 E1 E0 E0 + C26 E0 E1 E0 + C11 E0 E0 E1 + C25 E0 E0 E0 [SEP] C1 E2 E3 E0 + C16 E0 E4 E1 + C19 E1 E1 E3 + C15 E2 E2 E0 + C29 E0 E4 E0 + C1 E1 E2 E1 + C1 E0 E3 E1 + C17 E1 E1 E2 + C8 E0 E2 E2 + C26 E0 E1 E3 + C4 E2 E1 E0 + C24 E0 E3 E0 + C22 E1 E1 E1 + C30 E0 E2 E1 + C5 E1 E0 E2 + C26 E0 E1 E2 + C17 E2 E0 E0 + C28 E1 E1 E0 + C10 E0 E2 E0 + C26 E1 E0 E1 + C13 E0 E1 E1 + C15 E0 E0 E2 + C14 E1 E0 E0 + C12 E0 E1 E0 + C28 E0 E0 E1 + C2 E0 E0 E0 [SEP] C1 E3 E3 E0 + C24 E2 E3 E1 + C14 E1 E2 E3 + C9 E2 E3 E0 + C20 E1 E4 E0 + C17 E1 E3 E1 + C13 E0 E2 E3 + C22 E2 E2 E0 + C21 E1 E3 E0 + C12 E2 E1 E1 + C16 E1 E2 E1 + C10 E0 E3 E1 + C27 E0 E2 E2 + C5 E0 E1 E3 + C25 E3 E0 E0 + C18 E1 E2 E0 + C13 E0 E3 E0 + C23 E1 E1 E1 + C10 E0 E2 E1 + C25 E0 E1 E2 + C5 E0 E0 E3 + C30 E2 E0 E0 + C19 E1 E1 E0 + C13 E0 E2 E0 + C24 E1 E0 E1 + C27 E0 E1 E1 + C8 E0 E0 E2 + C17 E1 E0 E0 + C15 E0 E1 E0 + C29 E0 E0 E1 + C24 E0 E0 E0 [SEP] C1 E1 E3 E0 + C5 E1 E2 E0 + C11 E0 E3 E0 + C22 E0 E2 E1 + C30 E1 E1 E0 + C26 E0 E2 E0 + C14 E1 E0 E1 + C8 E0 E1 E1 + C30 E0 E0 E2 + C18 E1 E0 E0 + C29 E0 E1 E0 + C25 E0 E0 E1 + C21 E0 E0 E0 # C1 E3 E2 E1 + C2 E3 E2 E0 + C30 E2 E3 E0 + C5 E1 E4 E0 + C23 E3 E1 E1 + C11 E2 E2 E1 + C8 E1 E3 E1 + C8 E3 E0 E2 + C28 E1 E2 E2 + C14 E3 E1 E0 + C16 E2 E2 E0 + C10 E1 E3 E0 + C8 E3 E0 E1 + C14 E1 E2 E1 + C29 E2 E1 E0 + C9 E1 E2 E0 + C19 E2 E0 E1 + C19 E1 E1 E1 + C8 E2 E0 E0 + C2 E1 E1 E0 + C23 E1 E0 E1 + C18 E1 E0 E0 [SEP] C1 E2 E3 E1 + C2 E2 E3 E0 + C30 E1 E4 E0 + C5 E0 E5 E0 + C23 E2 E2 E1 + C11 E1 E3 E1 + C8 E0 E4 E1 + C8 E2 E1 E2 + C28 E0 E3 E2 + C14 E2 E2 E0 + C16 E1 E3 E0 + C10 E0 E4 E0 + C8 E2 E1 E1 + C14 E0 E3 E1 + C29 E1 E2 E0 + C9 E0 E3 E0 + C19 E1 E1 E1 + C19 E0 E2 E1 + C8 E1 E1 E0 + C2 E0 E2 E0 + C23 E0 E1 E1 + C18 E0 E1 E0 [SEP] C1 E1 E5 E0 + C2 E3 E2 E1 + C10 E1 E4 E1 + C22 E0 E3 E3 + C29 E0 E2 E4 + C20 E3 E2 E0 + C27 E2 E3 E0 + C27 E1 E4 E0 + C11 E0 E5 E0 + C3 E3 E1 E1 + C21 E1 E3 E1 + C18 E0 E4 E1 + C5 E0 E3 E2 + C8 E0 E2 E3 + C28 E3 E1 E0 + C21 E2 E2 E0 + C10 E1 E3 E0 + C20 E0 E4 E0 + C12 E2 E1 E1 + C7 E1 E2 E1 + C9 E0 E3 E1 + C27 E0 E2 E2 + C6 E0 E1 E3 + C19 E2 E1 E0 + C12 E1 E2 E0 + C26 E0 E3 E0 + C11 E0 E2 E1 + C11 E0 E1 E2 + C8 E1 E1 E0 + C26 E0 E2 E0 + C11 E0 E1 E1 + C25 E0 E1 E0 [SEP] C1 E2 E3 E1 + C16 E0 E4 E2 + C19 E1 E1 E4 + C15 E2 E2 E1 + C29 E0 E4 E1 + C1 E1 E2 E2 + C1 E0 E3 E2 + C17 E1 E1 E3 + C8 E0 E2 E3 + C26 E0 E1 E4 + C4 E2 E1 E1 + C24 E0 E3 E1 + C22 E1 E1 E2 + C30 E0 E2 E2 + C5 E1 E0 E3 + C26 E0 E1 E3 + C17 E2 E0 E1 + C28 E1 E1 E1 + C10 E0 E2 E1 + C26 E1 E0 E2 + C13 E0 E1 E2 + C15 E0 E0 E3 + C14 E1 E0 E1 + C12 E0 E1 E1 + C28 E0 E0 E2 + C2 E0 E0 E1 [SEP] C1 E2 E3 E0 + C5 E2 E2 E0 + C11 E1 E3 E0 + C22 E1 E2 E1 + C30 E2 E1 E0 + C26 E1 E2 E0 + C14 E2 E0 E1 + C8 E1 E1 E1 + C30 E1 E0 E2 + C18 E2 E0 E0 + C29 E1 E1 E0 + C25 E1 E0 E1 + C21 E1 E0 E0 [SEP] C1 E1 E4 E0 + C5 E1 E3 E0 + C11 E0 E4 E0 + C22 E0 E3 E1 + C30 E1 E2 E0 + C26 E0 E3 E0 + C14 E1 E1 E1 + C8 E0 E2 E1 + C30 E0 E1 E2 + C18 E1 E1 E0 + C29 E0 E2 E0 + C25 E0 E1 E1 + C21 E0 E1 E0 [SEP] C1 E1 E3 E1 + C5 E1 E2 E1 + C11 E0 E3 E1 + C22 E0 E2 E2 + C30 E1 E1 E1 + C26 E0 E2 E1 + C14 E1 E0 E2 + C8 E0 E1 E2 + C30 E0 E0 E3 + C18 E1 E0 E1 + C29 E0 E1 E1 + C25 E0 E0 E2 + C21 E0 E0 E1'"
      ]
     },
     "execution_count": 22,
     "metadata": {},
     "output_type": "execute_result"
    }
   ],
   "source": [
    "'''\n",
    "    calculator.datasets[0][0] gives\n",
    "    (L,  # Geneators of the order ideal O(L)\n",
    "     V,  # Target set of polynomials to span,\n",
    "     S,  # # List of polynomials that were successfully extended\n",
    "     )\n",
    "     \n",
    "     From this, we construct \n",
    "     input: \n",
    "     (F, L, V)\n",
    "     output: \n",
    "     (S)  \n",
    "     \n",
    "     Note: \n",
    "     It would be better to put something like [SUPER_SEP] instead of [SEP] between F, L, V. \n",
    "'''\n",
    "\n",
    "\n",
    "## Get one sample\n",
    "L, V, S = calculator.datasets[0][0]\n",
    "inputs = F + L + V\n",
    "target = S\n",
    "\n",
    "inputs_text = [poly_to_sequence(f) for f in inputs]\n",
    "inputs_text = ' [SEP] '.join(inputs_text)\n",
    "target_text = [poly_to_sequence(f) for f in target]\n",
    "target_text = ' [SEP] '.join(target_text)\n",
    "\n",
    "sample_text = ' # '.join([inputs_text, target_text])\n",
    "\n",
    "sample_text"
   ]
  },
  {
   "cell_type": "code",
   "execution_count": 23,
   "metadata": {
    "vscode": {
     "languageId": "python"
    }
   },
   "outputs": [],
   "source": [
    "## Collect all samples.\n",
    "\n",
    "number_of_Lstabspan = len(calculator.datasets)\n",
    "\n",
    "dataset = []\n",
    "for i in range(number_of_Lstabspan):\n",
    "    number_of_Lstabspan_iterations = len(calculator.datasets[i])\n",
    "    for j in range(number_of_Lstabspan_iterations):\n",
    "        L, V, S = calculator.datasets[i][j]\n",
    "        \n",
    "        inputs = F + L + V\n",
    "        target = S\n",
    "\n",
    "        inputs_text = [poly_to_sequence(f) for f in inputs]\n",
    "        inputs_text = ' [SEP] '.join(inputs_text)\n",
    "        target_text = [poly_to_sequence(f) for f in target]\n",
    "        target_text = ' [SEP] '.join(target_text)\n",
    "\n",
    "        sample_text = ' # '.join([inputs_text, target_text])\n",
    "\n",
    "        dataset.append(sample_text)"
   ]
  },
  {
   "cell_type": "code",
   "execution_count": 24,
   "metadata": {
    "vscode": {
     "languageId": "python"
    }
   },
   "outputs": [
    {
     "data": {
      "image/png": "[encoded data removed]",
      "text/plain": [
       "<Figure size 640x480 with 1 Axes>"
      ]
     },
     "metadata": {},
     "output_type": "display_data"
    }
   ],
   "source": [
    "import matplotlib.pyplot as plt\n",
    "\n",
    "ntokens = [len(sample.split()) for sample in dataset] # The number of tokens\n",
    "\n",
    "plt.hist(ntokens)\n",
    "plt.show()\n"
   ]
  },
  {
   "cell_type": "markdown",
   "metadata": {},
   "source": [
    "### Examining the number of tokens"
   ]
  },
  {
   "cell_type": "code",
   "execution_count": 25,
   "metadata": {
    "vscode": {
     "languageId": "python"
    }
   },
   "outputs": [
    {
     "name": "stdout",
     "output_type": "stream",
     "text": [
      "L: 11, V: 8, S: 7\n",
      "#tokens in L: 4.0, 0.0, 4, 4\n",
      "#tokens in V: 145.875, 45.957691140874346, 64, 219\n",
      "#tokens in S: 99.71428571428571, 34.5820526768863, 64, 159\n"
     ]
    }
   ],
   "source": [
    "L, V, S = calculator.datasets[0][0]\n",
    "\n",
    "print(f'L: {len(L)}, V: {len(V)}, S: {len(S)}')\n",
    "\n",
    "L_lengths = [] \n",
    "for l in L: \n",
    "    length = len(poly_to_sequence(l).split())\n",
    "    # print(length)\n",
    "    L_lengths.append(length)\n",
    "\n",
    "V_lengths = []\n",
    "for v in V: \n",
    "    length = len(poly_to_sequence(v).split())\n",
    "    # print(length)\n",
    "    V_lengths.append(length)\n",
    "\n",
    "S_lengths = []\n",
    "for s in S: \n",
    "    length = len(poly_to_sequence(s).split())\n",
    "    # print(length)\n",
    "    S_lengths.append(length)\n",
    "\n",
    "import numpy as np \n",
    "print(f'#tokens in L: {np.mean(L_lengths)}, {np.std(L_lengths)}, {np.min(L_lengths)}, {np.max(L_lengths)}')\n",
    "print(f'#tokens in V: {np.mean(V_lengths)}, {np.std(V_lengths)}, {np.min(V_lengths)}, {np.max(V_lengths)}')\n",
    "print(f'#tokens in S: {np.mean(S_lengths)}, {np.std(S_lengths)}, {np.min(S_lengths)}, {np.max(S_lengths)}')\n"
   ]
  },
  {
   "cell_type": "code",
   "execution_count": 12,
   "metadata": {
    "vscode": {
     "languageId": "python"
    }
   },
   "outputs": [
    {
     "data": {
      "text/plain": [
       "[x1^3*x2^2,\n",
       " x0*x1^2*x2^2,\n",
       " x1^4*x2,\n",
       " x0*x1^3*x2,\n",
       " x0^2*x1^2*x2,\n",
       " x0^3*x1*x2,\n",
       " x0^4*x2,\n",
       " x1^5,\n",
       " x0*x1^4,\n",
       " x0^2*x1^3,\n",
       " x0^3*x1^2,\n",
       " x0^4*x1,\n",
       " x0^5,\n",
       " x2^6,\n",
       " x1*x2^5,\n",
       " x0*x2^5,\n",
       " x1^2*x2^4,\n",
       " x0*x1*x2^4,\n",
       " x0^2*x2^4,\n",
       " x0^2*x1*x2^3,\n",
       " x0^3*x2^3]"
      ]
     },
     "execution_count": 12,
     "metadata": {},
     "output_type": "execute_result"
    }
   ],
   "source": [
    "L"
   ]
  },
  {
   "cell_type": "code",
   "execution_count": 44,
   "metadata": {
    "vscode": {
     "languageId": "python"
    }
   },
   "outputs": [
    {
     "data": {
      "text/plain": [
       "[x0*x1^4 - 13*x0^4*x2 + 10*x0^3*x1*x2 - 6*x0^2*x1*x2^2 - 6*x0^2*x2^3 + 3*x1^2*x2^3 - 14*x0^4 + 10*x0^3*x1 - 10*x0^2*x1^2 - 12*x0*x1^3 - x0^3*x2 + 15*x0^2*x1*x2 - 3*x0*x1^2*x2 - 11*x1^3*x2 + 4*x0^2*x2^2 + 14*x0*x1*x2^2 + 6*x1^2*x2^2 - 9*x0*x2^3 + 10*x1*x2^3 + 4*x2^4 - x0^3 + 10*x0^2*x1 + 6*x0*x1^2 - 15*x1^3 - 6*x0^2*x2 + 6*x0*x1*x2 + 10*x1^2*x2 - 7*x0*x2^2 + 15*x2^3 + x0^2 - 13*x0*x1 + 5*x1^2 - 4*x0*x2 - 12*x1*x2 + 4*x2^2 - 7*x0 - 5*x1 + 6*x2 + 4,\n",
       " x0^2*x1^3 + 2*x0^2*x1^2*x2 - 12*x0^2*x1*x2^2 + 5*x0*x1^2*x2^2 - 15*x1^3*x2^2 - 15*x0^3*x1 - 10*x0^2*x1^2 - 9*x0*x1^3 - 12*x1^4 + x0^2*x1*x2 - 10*x0*x1^2*x2 - 3*x1^3*x2 - 9*x0*x1*x2^2 - 8*x1^2*x2^2 + 5*x0*x2^3 + 2*x1*x2^3 + x0^2*x1 - 13*x0*x1^2 - 3*x1^3 - 11*x0^2*x2 - 7*x0*x1*x2 + 12*x1^2*x2 + 14*x0*x2^2 + 8*x1*x2^2 - x2^3 + 11*x0^2 - 13*x0*x1 - x1^2 - 7*x0*x2 + 4*x1*x2 - 4*x2^2 + 12*x0 - 3*x1 - 2*x2 - 6,\n",
       " x0^2*x1^2 + 12*x0*x1^3 + 2*x0^3*x2 + 5*x0*x1^2*x2 - 3*x0^2*x2^2 - 12*x1^2*x2^2 + 9*x0*x2^3 + 4*x0^3 + 6*x0^2*x1 + 12*x0*x1^2 - 15*x1^3 + 2*x0^2*x2 - 5*x0*x1*x2 - 5*x1^2*x2 - 14*x0*x2^2 - 5*x1*x2^2 + 2*x2^3 + 15*x0*x1 + 13*x1^2 - 13*x0*x2 + 9*x1*x2 - 11*x2^2 - 6*x0 + 11*x1 + 15*x2 - 4,\n",
       " x0^3*x1*x2 - 10*x1^2*x2^3 + 4*x0^2*x1^2 + 11*x0^2*x1*x2 - 12*x0*x1^2*x2 - 13*x0*x1*x2^2 + 12*x1^2*x2^2 - 12*x0*x2^3 + 15*x1*x2^3 + 7*x0^3 - 8*x0^2*x1 + 3*x0*x1^2 + 6*x1^3 - 10*x0^2*x2 - 12*x0*x1*x2 - 5*x1^2*x2 + 6*x0*x2^2 - 11*x0^2 + 5*x0*x1 - 10*x1^2 + 7*x0*x2 + 6*x1*x2 + 10*x2^2 - 6*x0 + 6*x1 - 14*x2 - 2,\n",
       " x0^4*x1 + 11*x0^3*x1 - 5*x0^2*x1^2 + 4*x0^2*x1*x2 - 8*x0^2*x1 - 15*x0*x1^2 + 3*x0*x1*x2 + 3*x1^2*x2 - 10*x2^3 - 5*x0^2 + 15*x0*x1 + 15*x1^2 + 5*x0*x2 - x1*x2 + 14*x2^2 - 14*x0 - 5*x1 - 10*x2 + 9]"
      ]
     },
     "execution_count": 44,
     "metadata": {},
     "output_type": "execute_result"
    }
   ],
   "source": [
    "V"
   ]
  },
  {
   "cell_type": "code",
   "execution_count": 45,
   "metadata": {
    "vscode": {
     "languageId": "python"
    }
   },
   "outputs": [
    {
     "data": {
      "text/plain": [
       "[x0^2 + 11*x0 - 12*x1 - 11*x2 + 13,\n",
       " x0*x1 + 9*x0 + 8*x1 + 6*x2 - 12,\n",
       " x1^2 + 5*x0 - 12*x1 + 8*x2 + 6,\n",
       " x0*x2 + 13*x0 + 14*x1 + 12*x2 + 7,\n",
       " x1*x2 + 8*x0 + 5*x1 + x2 - 13,\n",
       " x2^2 - 14*x0 - 14*x1 + 2*x2 + 5]"
      ]
     },
     "execution_count": 45,
     "metadata": {},
     "output_type": "execute_result"
    }
   ],
   "source": [
    "BB"
   ]
  },
  {
   "cell_type": "code",
   "execution_count": 46,
   "metadata": {
    "vscode": {
     "languageId": "python"
    }
   },
   "outputs": [
    {
     "data": {
      "text/plain": [
       "[x2^2 - 14*x0 - 14*x1 + 2*x2 + 5,\n",
       " x1*x2 + 8*x0 + 5*x1 + x2 - 13,\n",
       " x0*x2 + 13*x0 + 14*x1 + 12*x2 + 7,\n",
       " x1^2 + 5*x0 - 12*x1 + 8*x2 + 6,\n",
       " x0*x1 + 9*x0 + 8*x1 + 6*x2 - 12,\n",
       " x0^2 + 11*x0 - 12*x1 - 11*x2 + 13]"
      ]
     },
     "execution_count": 46,
     "metadata": {},
     "output_type": "execute_result"
    }
   ],
   "source": [
    "G"
   ]
  },
  {
   "cell_type": "markdown",
   "metadata": {},
   "source": [
    "`BB`: The border basis in the original dataset\n",
    "\n",
    "`G` : The computed border basis by improved border basis algorithm\n",
    "\n",
    "- Two bases are different (probably because of some sorting). \n",
    "- But they generate the same ideals, so it's fine. \n"
   ]
  },
  {
   "cell_type": "code",
   "execution_count": 47,
   "metadata": {
    "vscode": {
     "languageId": "python"
    }
   },
   "outputs": [
    {
     "data": {
      "text/plain": [
       "True"
      ]
     },
     "execution_count": 47,
     "metadata": {},
     "output_type": "execute_result"
    }
   ],
   "source": [
    "ideal(G) == ideal(BB)\n",
    "# ideal(G) == ideal(F)  # also good"
   ]
  },
  {
   "cell_type": "code",
   "execution_count": 48,
   "metadata": {
    "vscode": {
     "languageId": "python"
    }
   },
   "outputs": [
    {
     "data": {
      "text/plain": [
       "[1, x2, x1, x0]"
      ]
     },
     "execution_count": 48,
     "metadata": {},
     "output_type": "execute_result"
    }
   ],
   "source": [
    "O"
   ]
  },
  {
   "cell_type": "markdown",
   "metadata": {},
   "source": [
    "The order ideal and border basis contains terms upto degree 3. However, `L` and `V` contains very high degree terms -- is that reasonable? "
   ]
  },
  {
   "cell_type": "code",
   "execution_count": 49,
   "metadata": {
    "vscode": {
     "languageId": "python"
    }
   },
   "outputs": [
    {
     "data": {
      "text/plain": [
       "[x2^4,\n",
       " x1^2*x2^3,\n",
       " x0^2*x2^3,\n",
       " x1^3*x2^2,\n",
       " x0*x1^2*x2^2,\n",
       " x0^2*x1*x2^2,\n",
       " x0^2*x1^2*x2,\n",
       " x0^3*x1*x2,\n",
       " x0^4*x2,\n",
       " x0*x1^4,\n",
       " x0^2*x1^3,\n",
       " x0^4*x1]"
      ]
     },
     "execution_count": 49,
     "metadata": {},
     "output_type": "execute_result"
    }
   ],
   "source": [
    "L"
   ]
  },
  {
   "cell_type": "code",
   "execution_count": 52,
   "metadata": {
    "vscode": {
     "languageId": "python"
    }
   },
   "outputs": [
    {
     "data": {
      "text/plain": [
       "False"
      ]
     },
     "execution_count": 52,
     "metadata": {},
     "output_type": "execute_result"
    }
   ],
   "source": [
    "from src.border_basis_lib.utils import is_order_ideal\n",
    "\n",
    "is_order_ideal(L)"
   ]
  },
  {
   "cell_type": "code",
   "execution_count": 57,
   "metadata": {
    "vscode": {
     "languageId": "python"
    }
   },
   "outputs": [
    {
     "data": {
      "text/plain": [
       "[x0^3*x1^2,\n",
       " x0^2*x1^2*x2^2,\n",
       " x0^3*x1*x2^2,\n",
       " x0^4*x2^2,\n",
       " x1^5*x2,\n",
       " x0*x1^4*x2,\n",
       " x0^2*x1^3*x2,\n",
       " x0^5*x2,\n",
       " x1^6,\n",
       " x0*x1^5,\n",
       " x0^5*x1,\n",
       " x0^6,\n",
       " x0*x2^6,\n",
       " x1^2*x2^5,\n",
       " x0*x1*x2^5,\n",
       " x0^2*x2^5,\n",
       " x1^3*x2^4,\n",
       " x0*x1^2*x2^4,\n",
       " x0^2*x1*x2^4,\n",
       " x0^3*x2^4,\n",
       " x1^4*x2^3,\n",
       " x0*x1^3*x2^3]"
      ]
     },
     "execution_count": 57,
     "metadata": {},
     "output_type": "execute_result"
    }
   ],
   "source": [
    "L, V, S = calculator.datasets[3][0]\n",
    "L"
   ]
  }
 ],
 "metadata": {
  "kernelspec": {
   "display_name": "SageMath 10.4",
   "language": "sage",
   "name": "sagemath"
  },
  "language_info": {
   "codemirror_mode": {
    "name": "ipython",
    "version": 3
   },
   "file_extension": ".py",
   "mimetype": "text/x-python",
   "name": "sage",
   "nbconvert_exporter": "python",
   "pygments_lexer": "ipython3",
   "version": "3.10.12"
  }
 },
 "nbformat": 4,
 "nbformat_minor": 2
}
