{
 "cells": [
  {
   "cell_type": "code",
   "execution_count": 1,
   "metadata": {},
   "outputs": [
    {
     "name": "stdout",
     "output_type": "stream",
     "text": [
      "/app\n"
     ]
    }
   ],
   "source": [
    "%cd '/app'"
   ]
  },
  {
   "cell_type": "code",
   "execution_count": 2,
   "metadata": {},
   "outputs": [],
   "source": [
    "%load_ext autoreload\n",
    "%autoreload 2"
   ]
  },
  {
   "cell_type": "markdown",
   "metadata": {},
   "source": [
    "### Loading border basis dataset "
   ]
  },
  {
   "cell_type": "code",
   "execution_count": 3,
   "metadata": {},
   "outputs": [],
   "source": [
    "import os\n",
    "\n",
    "# CUDE_VISIBLE_DEVICES=6\n",
    "os.environ['CUDA_VISIBLE_DEVICES'] = '6'\n",
    "\n",
    "from pathlib import Path\n",
    "from src.loader.data import load_data\n",
    "from src.loader.data_format.processors.base import ProcessorChain\n",
    "# from src.loader.tokenizer import set_vocab, set_tokenizer"
   ]
  },
  {
   "cell_type": "markdown",
   "metadata": {},
   "source": [
    "### Get tokenizer"
   ]
  },
  {
   "cell_type": "code",
   "execution_count": 6,
   "metadata": {},
   "outputs": [],
   "source": [
    "from src.loader.checkpoint import load_pretrained_bag\n",
    "\n",
    "save_path = 'results/train/expansion/expansion/custom_bart/base_k_lt=5_m=1000000'\n",
    "bag = load_pretrained_bag(save_path, from_checkpoint=True)\n",
    "\n",
    "tokenizer = bag['tokenizer']\n",
    "config = bag['config']"
   ]
  },
  {
   "cell_type": "markdown",
   "metadata": {},
   "source": [
    "### Load Data"
   ]
  },
  {
   "cell_type": "code",
   "execution_count": 7,
   "metadata": {},
   "outputs": [],
   "source": [
    "# load config\n",
    "\n",
    "data_path  = f\"data/border_basis/GF31_n=3_deg=4_terms=10_bounds=4_4_4_total=4\"\n",
    "import yaml\n",
    "with open(f'{data_path}/config.yaml', 'r') as f:\n",
    "    exp_config = yaml.safe_load(f)\n",
    "\n",
    "data_path  = f\"data/expansion/GF31_n=3_deg=4_terms=10_bounds=4_4_4_total=4\"\n",
    "\n",
    "from src.loader.data_format.processors.expansion import ExtractKLeadingTermsProcessor\n",
    "from src.loader.data_format.processors.subprocessors import MonomialProcessorPlus\n",
    "\n",
    "\n",
    "data_collator_name = 'monomial'\n",
    "\n",
    "_processors = []\n",
    "_processors.append(ExtractKLeadingTermsProcessor(config.num_leading_terms))\n",
    "\n",
    "subprocessors = {}\n",
    "subprocessors['monomial_ids'] = MonomialProcessorPlus(\n",
    "            num_variables=config.num_variables,\n",
    "            max_degree=config.max_degree,\n",
    "            max_coef=int(config.field[2:])  # 'GF7' -> 7\n",
    "        )\n",
    "\n",
    "processor = ProcessorChain(_processors) \n",
    "\n",
    "# load test dataset\n",
    "test_data_path = Path(data_path) / 'test'\n",
    "test_dataset, data_collator = load_data(\n",
    "    data_path=test_data_path,\n",
    "    processor=processor,\n",
    "    subprocessors=subprocessors,\n",
    "    splits=[{\"name\": \"test\", \"batch_size\": 32, \"shuffle\": False}],\n",
    "    tokenizer=tokenizer,\n",
    "    return_dataloader=False,  # return dataloader if True\n",
    "    data_collator_name=data_collator_name\n",
    ")"
   ]
  },
  {
   "cell_type": "code",
   "execution_count": 11,
   "metadata": {},
   "outputs": [
    {
     "name": "stdout",
     "output_type": "stream",
     "text": [
      "sample input sequence:\n",
      " C1 E0 E1 E7 [SEP] C1 E1 E4 E3 [SEP] C1 E2 E3 E3 [SEP] C1 E3 E2 E3 [SEP] C1 E4 E1 E3 [SEP] C1 E5 E0 E3 [SEP] C1 E1 E5 E2 [SEP] C1 E2 E4 E2 [SEP] C1 E3 E3 E2 [SEP] C1 E4 E2 E2 [SEP] C1 E5 E1 E2 [SEP] C1 E6 E0 E2 [SEP] C1 E1 E6 E1 [SEP] C1 E2 E5 E1 [SEP] C1 E3 E4 E1 [SEP] C1 E4 E3 E1 [SEP] C1 E5 E2 E1 [SEP] C1 E6 E1 E1 [SEP] C1 E7 E0 E1 [SEP] C1 E2 E6 E0 [SEP] C1 E3 E5 E0 [SEP] C1 E4 E4 E0 [SEP] C1 E5 E3 E0 [SEP] C1 E6 E2 E0 [SEP] C1 E7 E1 E0 [SEP] C1 E8 E0 E0 [SEP] C1 E2 E0 E7 [SEP] C1 E1 E2 E6 [SEP] C1 E2 E1 E6 [SEP] C1 E3 E0 E6 [SEP] C1 E1 E3 E5 [SEP] C1 E2 E2 E5 [SEP] C1 E3 E1 E5 [SEP] C1 E4 E0 E5  [BIGSEP]  C1 E4 E1 E0 + C19 E3 E1 E1 + C27 E4 E0 E0 + C13 E3 E1 E0 + C21 E3 E0 E1  [SEP]  C1 E4 E1 E1 + C19 E3 E1 E2 + C27 E4 E0 E1 + C13 E3 E1 E1 + C21 E3 E0 E2  [SEP]  C1 E4 E2 E0 + C19 E3 E2 E1 + C27 E4 E1 E0 + C13 E3 E2 E0 + C21 E3 E1 E1  [SEP]  C1 E5 E1 E0 + C19 E4 E1 E1 + C27 E5 E0 E0 + C13 E4 E1 E0 + C21 E4 E0 E1  [SEP]  C1 E1 E2 E4 + C25 E0 E3 E4 + C14 E2 E0 E5 + C9 E1 E1 E5 + C1 E0 E2 E5  [SEP]  C1 E2 E1 E4 + C1 E1 E2 E4 + C5 E0 E3 E4 + C3 E2 E0 E5 + C2 E1 E1 E5  [SEP]  C1 E3 E0 E4 + C25 E2 E1 E4 + C14 E1 E2 E4 + C7 E0 E3 E4 + C14 E2 E0 E5  [SEP]  C1 E0 E4 E3 + C15 E3 E0 E4 + C24 E2 E1 E4 + C18 E1 E2 E4 + C15 E0 E3 E4  [SEP]  C1 E1 E3 E3 + C28 E0 E4 E3 + C25 E3 E0 E4 + C4 E2 E1 E4 + C16 E0 E3 E4  [SEP]  C1 E2 E2 E3 + C12 E1 E3 E3 + C25 E0 E4 E3 + C29 E3 E0 E4 + C25 E2 E1 E4  [SEP]  C1 E3 E1 E3 + C18 E2 E2 E3 + C5 E1 E3 E3 + C6 E0 E4 E3 + C18 E3 E0 E4  [SEP]  C1 E4 E0 E3 + C13 E3 E1 E3 + C25 E2 E2 E3 + C30 E1 E3 E3 + C20 E0 E4 E3  [SEP]  C1 E0 E5 E2 + C2 E4 E0 E3 + C6 E3 E1 E3 + C18 E2 E2 E3 + C3 E1 E3 E3  [SEP]  C1 E1 E4 E2 + C13 E0 E5 E2 + C10 E4 E0 E3 + C10 E3 E1 E3 + C28 E2 E2 E3  [SEP]  C1 E2 E3 E2 + C26 E1 E4 E2 + C25 E0 E5 E2 + C6 E4 E0 E3 + C19 E3 E1 E3  [SEP]  C1 E3 E2 E2 + C15 E2 E3 E2 + C8 E1 E4 E2 + C8 E0 E5 E2 + C17 E4 E0 E3  [SEP]  C1 E4 E1 E2 + C19 E3 E1 E3 + C27 E4 E0 E2 + C13 E3 E1 E2 + C21 E3 E0 E3  [SEP]  C1 E5 E0 E2 + C5 E4 E1 E2 + C1 E3 E2 E2 + C29 E2 E3 E2 + C16 E1 E4 E2  [SEP]  C1 E0 E6 E1 + C28 E5 E0 E2 + C23 E4 E1 E2 + C15 E3 E2 E2 + C13 E2 E3 E2  [SEP]  C1 E1 E5 E1 + C29 E5 E0 E2 + C20 E4 E1 E2 + C25 E3 E2 E2 + C14 E2 E3 E2  [SEP]  C1 E2 E4 E1 + C19 E5 E0 E2 + C6 E4 E1 E2 + C8 E3 E2 E2 + C7 E2 E3 E2  [SEP]  C1 E3 E3 E1 + C30 E2 E4 E1 + C8 E1 E5 E1 + C18 E5 E0 E2 + C22 E4 E1 E2  [SEP]  C1 E4 E2 E1 + C19 E3 E2 E2 + C27 E4 E1 E1 + C13 E3 E2 E1 + C21 E3 E1 E2  [SEP]  C1 E5 E1 E1 + C19 E4 E1 E2 + C27 E5 E0 E1 + C13 E4 E1 E1 + C21 E4 E0 E2  [SEP]  C1 E6 E0 E1 + C1 E5 E1 E1 + C5 E4 E2 E1 + C18 E3 E3 E1 + C3 E2 E4 E1  [SEP]  C1 E1 E6 E0 + C25 E6 E0 E1 + C22 E5 E1 E1 + C27 E4 E2 E1 + C14 E3 E3 E1  [SEP]  C1 E2 E5 E0 + C3 E1 E6 E0 + C4 E6 E0 E1 + C27 E5 E1 E1 + C21 E4 E2 E1  [SEP]  C1 E3 E4 E0 + C6 E2 E5 E0 + C25 E6 E0 E1 + C4 E5 E1 E1 + C6 E4 E2 E1  [SEP]  C1 E4 E3 E0 + C19 E3 E3 E1 + C27 E4 E2 E0 + C13 E3 E3 E0 + C21 E3 E2 E1  [SEP]  C1 E5 E2 E0 + C19 E4 E2 E1 + C27 E5 E1 E0 + C13 E4 E2 E0 + C21 E4 E1 E1  [SEP]  C1 E6 E1 E0 + C19 E5 E1 E1 + C27 E6 E0 E0 + C13 E5 E1 E0 + C21 E5 E0 E1  [SEP]  C1 E7 E0 E0 + C3 E6 E1 E0 + C27 E6 E0 E1 + C1 E5 E0 E2 + C9 E3 E0 E4  [SEP]  C1 E0 E1 E7 + C10 E7 E0 E0 + C3 E6 E1 E0 + C18 E5 E2 E0 + C24 E4 E3 E0  [SEP]  C1 E1 E0 E7 + C13 E7 E0 E0 + C15 E6 E1 E0 + C29 E5 E2 E0 + C10 E4 E3 E0  [SEP]  C1 E0 E2 E6 + C5 E1 E0 E7 + C16 E0 E1 E7 + C27 E7 E0 E0 + C6 E6 E1 E0  [SEP]  C1 E1 E1 E6 + C25 E1 E0 E7 + C17 E7 E0 E0 + C5 E6 E1 E0 + C18 E5 E2 E0  [SEP]  C1 E2 E0 E6 + C18 E1 E1 E6 + C11 E0 E2 E6 + C13 E1 E0 E7 + C21 E0 E1 E7  [SEP]  C1 E0 E3 E5 + C7 E2 E0 E6 + C18 E1 E1 E6 + C16 E0 E2 E6 + C22 E1 E0 E7  [SEP]  C1 E1 E2 E5 + C8 E0 E3 E5 + C5 E2 E0 E6 + C16 E1 E1 E6 + C4 E0 E2 E6  [SEP]  C1 E2 E1 E5 + C10 E7 E0 E0 + C27 E6 E1 E0 + C25 E5 E2 E0 + C13 E4 E3 E0  [SEP]  C1 E3 E0 E5 + C9 E2 E1 E5 + C12 E1 E2 E5 + C28 E0 E3 E5 + C8 E2 E0 E6  [SEP]  C1 E1 E3 E4 + C19 E3 E0 E5 + C10 E2 E1 E5 + C29 E1 E2 E5 + C14 E0 E3 E5  [SEP]  C1 E2 E2 E4 + C15 E2 E1 E5 + C5 E7 E0 E0 + C16 E6 E1 E0 + C14 E5 E2 E0  [SEP]  C1 E3 E1 E4 + C30 E7 E0 E0 + C13 E6 E1 E0 + C8 E5 E2 E0 + C10 E4 E3 E0  [SEP]  C1 E4 E0 E4 + C10 E3 E1 E4 + C7 E2 E2 E4 + C15 E3 E0 E5 + C3 E2 E1 E5  [SEP]  C1 E1 E4 E3 + C25 E4 E0 E4 + C4 E3 E1 E4 + C13 E2 E2 E4 + C15 E1 E3 E4  [SEP]  C1 E2 E3 E3 + C2 E4 E0 E4 + C15 E3 E1 E4 + C21 E2 E2 E4 + C13 E3 E0 E5  [SEP]  C1 E3 E2 E3 + C4 E3 E4 E0 + C17 E3 E1 E3 + C11 E6 E0 E0 + C20 E5 E1 E0  [SEP]  C1 E4 E1 E3 + C19 E3 E1 E4 + C27 E4 E0 E3 + C13 E3 E1 E3 + C21 E3 E0 E4  [SEP]  C1 E5 E0 E3 + C17 E4 E1 E3 + C7 E3 E2 E3 + C9 E2 E3 E3 + C20 E4 E0 E4  [SEP]  C1 E1 E5 E2 + C24 E5 E0 E3 + C23 E4 E1 E3 + C8 E3 E2 E3 + C13 E2 E3 E3  [SEP]  C1 E2 E4 E2 + C16 E1 E5 E2 + C22 E5 E0 E3 + C16 E4 E1 E3 + C11 E3 E2 E3  [SEP]  C1 E3 E3 E2 + C21 E4 E1 E3 + C2 E3 E2 E3 + C29 E5 E2 E0 + C9 E4 E3 E0  [SEP]  C1 E4 E2 E2 + C19 E3 E2 E3 + C27 E4 E1 E2 + C13 E3 E2 E2 + C21 E3 E1 E3  [SEP]  C1 E5 E1 E2 + C19 E4 E1 E3 + C27 E5 E0 E2 + C13 E4 E1 E2 + C21 E4 E0 E3  [SEP]  C1 E6 E0 E2 + C28 E5 E1 E2 + C24 E4 E2 E2 + C13 E3 E3 E2 + C27 E5 E0 E3  [SEP]  C1 E1 E6 E1 + C6 E6 E0 E2 + C11 E5 E1 E2 + C6 E4 E2 E2 + C25 E3 E3 E2  [SEP]  C1 E2 E5 E1 + C1 E6 E0 E2 + C2 E5 E1 E2 + C21 E4 E2 E2 + C12 E3 E3 E2  [SEP]  C1 E3 E4 E1 + C15 E6 E0 E2 + C23 E5 E1 E2 + C2 E4 E2 E2 + C10 E3 E3 E2  [SEP]  C1 E4 E3 E1 + C19 E3 E3 E2 + C27 E4 E2 E1 + C13 E3 E3 E1 + C21 E3 E2 E2  [SEP]  C1 E5 E2 E1 + C19 E4 E2 E2 + C27 E5 E1 E1 + C13 E4 E2 E1 + C21 E4 E1 E2  [SEP]  C1 E6 E1 E1 + C19 E5 E1 E2 + C27 E6 E0 E1 + C13 E5 E1 E1 + C21 E5 E0 E2  [SEP]  C1 E7 E0 E1 + C3 E6 E1 E1 + C27 E6 E0 E2 + C1 E5 E0 E3 + C9 E3 E0 E5  [SEP]  C1 E2 E6 E0 + C3 E7 E0 E1 + C30 E6 E1 E1 + C24 E5 E2 E1 + C4 E4 E3 E1  [SEP]  C1 E3 E5 E0 + C22 E6 E1 E1 + C16 E5 E2 E1 + C3 E4 E3 E1 + C13 E3 E4 E1  [SEP]  C1 E4 E4 E0 + C19 E3 E4 E1 + C27 E4 E3 E0 + C13 E3 E4 E0 + C21 E3 E3 E1  [SEP]  C1 E5 E3 E0 + C2 E5 E2 E1 + C4 E5 E1 E2 + C18 E5 E2 E0 + C7 E4 E3 E0  [SEP]  C1 E6 E2 E0 + C19 E5 E2 E1 + C27 E6 E1 E0 + C13 E5 E2 E0 + C21 E5 E1 E1  [SEP]  C1 E7 E1 E0 + C19 E6 E1 E1 + C27 E7 E0 E0 + C13 E6 E1 E0 + C21 E6 E0 E1  [SEP]  C1 E8 E0 E0 + C3 E7 E1 E0 + C27 E7 E0 E1 + C1 E6 E0 E2 + C9 E4 E0 E4  [SEP]  C1 E2 E0 E7 + C21 E8 E0 E0 + C2 E7 E1 E0 + C6 E6 E2 E0 + C27 E5 E3 E0  [SEP]  C1 E1 E2 E6 + C20 E2 E0 E7 + C20 E8 E0 E0 + C8 E7 E1 E0 + C4 E6 E2 E0  [SEP]  C1 E2 E1 E6 + C14 E2 E0 E7 + C23 E8 E0 E0 + C17 E7 E1 E0 + C25 E6 E2 E0  [SEP]  C1 E3 E0 E6 + C11 E2 E1 E6 + C19 E1 E2 E6 + C15 E2 E0 E7 + C23 E8 E0 E0  [SEP]  C1 E1 E3 E5 + C6 E2 E1 E6 + C30 E2 E0 E7 + C13 E8 E0 E0 + C5 E7 E1 E0  [SEP]  C1 E2 E2 E5 + C15 E2 E1 E6 + C5 E7 E0 E1 + C16 E6 E1 E1 + C14 E5 E2 E1  [SEP]  C1 E3 E1 E5 + C21 E8 E0 E0 + C28 E7 E1 E0 + C29 E6 E2 E0 + C16 E5 E3 E0  [SEP]  C1 E4 E0 E5 + C10 E3 E1 E5 + C7 E2 E2 E5 + C15 E3 E0 E6 + C3 E2 E1 E6\n",
      "sample input: \n",
      " L: [x1*x2^7, x0*x1^4*x2^3, x0^2*x1^3*x2^3, x0^3*x1^2*x2^3, x0^4*x1*x2^3, x0^5*x2^3, x0*x1^5*x2^2, x0^2*x1^4*x2^2, x0^3*x1^3*x2^2, x0^4*x1^2*x2^2, x0^5*x1*x2^2, x0^6*x2^2, x0*x1^6*x2, x0^2*x1^5*x2, x0^3*x1^4*x2, x0^4*x1^3*x2, x0^5*x1^2*x2, x0^6*x1*x2, x0^7*x2, x0^2*x1^6, x0^3*x1^5, x0^4*x1^4, x0^5*x1^3, x0^6*x1^2, x0^7*x1, x0^8, x0^2*x2^7, x0*x1^2*x2^6, x0^2*x1*x2^6, x0^3*x2^6, x0*x1^3*x2^5, x0^2*x1^2*x2^5, x0^3*x1*x2^5, x0^4*x2^5]\n",
      " V: [x0^4*x1 - 12*x0^3*x1*x2 - 4*x0^4 + 13*x0^3*x1 - 10*x0^3*x2, x0^4*x1*x2 - 12*x0^3*x1*x2^2 - 4*x0^4*x2 + 13*x0^3*x1*x2 - 10*x0^3*x2^2, x0^4*x1^2 - 12*x0^3*x1^2*x2 - 4*x0^4*x1 + 13*x0^3*x1^2 - 10*x0^3*x1*x2, x0^5*x1 - 12*x0^4*x1*x2 - 4*x0^5 + 13*x0^4*x1 - 10*x0^4*x2, x0*x1^2*x2^4 - 6*x1^3*x2^4 + 14*x0^2*x2^5 + 9*x0*x1*x2^5 + x1^2*x2^5, x0^2*x1*x2^4 + x0*x1^2*x2^4 + 5*x1^3*x2^4 + 3*x0^2*x2^5 + 2*x0*x1*x2^5, x0^3*x2^4 - 6*x0^2*x1*x2^4 + 14*x0*x1^2*x2^4 + 7*x1^3*x2^4 + 14*x0^2*x2^5, x1^4*x2^3 + 15*x0^3*x2^4 - 7*x0^2*x1*x2^4 - 13*x0*x1^2*x2^4 + 15*x1^3*x2^4, x0*x1^3*x2^3 - 3*x1^4*x2^3 - 6*x0^3*x2^4 + 4*x0^2*x1*x2^4 - 15*x1^3*x2^4, x0^2*x1^2*x2^3 + 12*x0*x1^3*x2^3 - 6*x1^4*x2^3 - 2*x0^3*x2^4 - 6*x0^2*x1*x2^4, x0^3*x1*x2^3 - 13*x0^2*x1^2*x2^3 + 5*x0*x1^3*x2^3 + 6*x1^4*x2^3 - 13*x0^3*x2^4, x0^4*x2^3 + 13*x0^3*x1*x2^3 - 6*x0^2*x1^2*x2^3 - x0*x1^3*x2^3 - 11*x1^4*x2^3, x1^5*x2^2 + 2*x0^4*x2^3 + 6*x0^3*x1*x2^3 - 13*x0^2*x1^2*x2^3 + 3*x0*x1^3*x2^3, x0*x1^4*x2^2 + 13*x1^5*x2^2 + 10*x0^4*x2^3 + 10*x0^3*x1*x2^3 - 3*x0^2*x1^2*x2^3, x0^2*x1^3*x2^2 - 5*x0*x1^4*x2^2 - 6*x1^5*x2^2 + 6*x0^4*x2^3 - 12*x0^3*x1*x2^3, x0^3*x1^2*x2^2 + 15*x0^2*x1^3*x2^2 + 8*x0*x1^4*x2^2 + 8*x1^5*x2^2 - 14*x0^4*x2^3, x0^4*x1*x2^2 - 12*x0^3*x1*x2^3 - 4*x0^4*x2^2 + 13*x0^3*x1*x2^2 - 10*x0^3*x2^3, x0^5*x2^2 + 5*x0^4*x1*x2^2 + x0^3*x1^2*x2^2 - 2*x0^2*x1^3*x2^2 - 15*x0*x1^4*x2^2, x1^6*x2 - 3*x0^5*x2^2 - 8*x0^4*x1*x2^2 + 15*x0^3*x1^2*x2^2 + 13*x0^2*x1^3*x2^2, x0*x1^5*x2 - 2*x0^5*x2^2 - 11*x0^4*x1*x2^2 - 6*x0^3*x1^2*x2^2 + 14*x0^2*x1^3*x2^2, x0^2*x1^4*x2 - 12*x0^5*x2^2 + 6*x0^4*x1*x2^2 + 8*x0^3*x1^2*x2^2 + 7*x0^2*x1^3*x2^2, x0^3*x1^3*x2 - x0^2*x1^4*x2 + 8*x0*x1^5*x2 - 13*x0^5*x2^2 - 9*x0^4*x1*x2^2, x0^4*x1^2*x2 - 12*x0^3*x1^2*x2^2 - 4*x0^4*x1*x2 + 13*x0^3*x1^2*x2 - 10*x0^3*x1*x2^2, x0^5*x1*x2 - 12*x0^4*x1*x2^2 - 4*x0^5*x2 + 13*x0^4*x1*x2 - 10*x0^4*x2^2, x0^6*x2 + x0^5*x1*x2 + 5*x0^4*x1^2*x2 - 13*x0^3*x1^3*x2 + 3*x0^2*x1^4*x2, x0*x1^6 - 6*x0^6*x2 - 9*x0^5*x1*x2 - 4*x0^4*x1^2*x2 + 14*x0^3*x1^3*x2, x0^2*x1^5 + 3*x0*x1^6 + 4*x0^6*x2 - 4*x0^5*x1*x2 - 10*x0^4*x1^2*x2, x0^3*x1^4 + 6*x0^2*x1^5 - 6*x0^6*x2 + 4*x0^5*x1*x2 + 6*x0^4*x1^2*x2, x0^4*x1^3 - 12*x0^3*x1^3*x2 - 4*x0^4*x1^2 + 13*x0^3*x1^3 - 10*x0^3*x1^2*x2, x0^5*x1^2 - 12*x0^4*x1^2*x2 - 4*x0^5*x1 + 13*x0^4*x1^2 - 10*x0^4*x1*x2, x0^6*x1 - 12*x0^5*x1*x2 - 4*x0^6 + 13*x0^5*x1 - 10*x0^5*x2, x0^7 + 3*x0^6*x1 - 4*x0^6*x2 + x0^5*x2^2 + 9*x0^3*x2^4, x1*x2^7 + 10*x0^7 + 3*x0^6*x1 - 13*x0^5*x1^2 - 7*x0^4*x1^3, x0*x2^7 + 13*x0^7 + 15*x0^6*x1 - 2*x0^5*x1^2 + 10*x0^4*x1^3, x1^2*x2^6 + 5*x0*x2^7 - 15*x1*x2^7 - 4*x0^7 + 6*x0^6*x1, x0*x1*x2^6 - 6*x0*x2^7 - 14*x0^7 + 5*x0^6*x1 - 13*x0^5*x1^2, x0^2*x2^6 - 13*x0*x1*x2^6 + 11*x1^2*x2^6 + 13*x0*x2^7 - 10*x1*x2^7, x1^3*x2^5 + 7*x0^2*x2^6 - 13*x0*x1*x2^6 - 15*x1^2*x2^6 - 9*x0*x2^7, x0*x1^2*x2^5 + 8*x1^3*x2^5 + 5*x0^2*x2^6 - 15*x0*x1*x2^6 + 4*x1^2*x2^6, x0^2*x1*x2^5 + 10*x0^7 - 4*x0^6*x1 - 6*x0^5*x1^2 + 13*x0^4*x1^3, x0^3*x2^5 + 9*x0^2*x1*x2^5 + 12*x0*x1^2*x2^5 - 3*x1^3*x2^5 + 8*x0^2*x2^6, x0*x1^3*x2^4 - 12*x0^3*x2^5 + 10*x0^2*x1*x2^5 - 2*x0*x1^2*x2^5 + 14*x1^3*x2^5, x0^2*x1^2*x2^4 + 15*x0^2*x1*x2^5 + 5*x0^7 - 15*x0^6*x1 + 14*x0^5*x1^2, x0^3*x1*x2^4 - x0^7 + 13*x0^6*x1 + 8*x0^5*x1^2 + 10*x0^4*x1^3, x0^4*x2^4 + 10*x0^3*x1*x2^4 + 7*x0^2*x1^2*x2^4 + 15*x0^3*x2^5 + 3*x0^2*x1*x2^5, x0*x1^4*x2^3 - 6*x0^4*x2^4 + 4*x0^3*x1*x2^4 + 13*x0^2*x1^2*x2^4 + 15*x0*x1^3*x2^4, x0^2*x1^3*x2^3 + 2*x0^4*x2^4 + 15*x0^3*x1*x2^4 - 10*x0^2*x1^2*x2^4 + 13*x0^3*x2^5, x0^3*x1^2*x2^3 + 4*x0^3*x1^4 - 14*x0^3*x1*x2^3 + 11*x0^6 - 11*x0^5*x1, x0^4*x1*x2^3 - 12*x0^3*x1*x2^4 - 4*x0^4*x2^3 + 13*x0^3*x1*x2^3 - 10*x0^3*x2^4, x0^5*x2^3 - 14*x0^4*x1*x2^3 + 7*x0^3*x1^2*x2^3 + 9*x0^2*x1^3*x2^3 - 11*x0^4*x2^4, x0*x1^5*x2^2 - 7*x0^5*x2^3 - 8*x0^4*x1*x2^3 + 8*x0^3*x1^2*x2^3 + 13*x0^2*x1^3*x2^3, x0^2*x1^4*x2^2 - 15*x0*x1^5*x2^2 - 9*x0^5*x2^3 - 15*x0^4*x1*x2^3 + 11*x0^3*x1^2*x2^3, x0^3*x1^3*x2^2 - 10*x0^4*x1*x2^3 + 2*x0^3*x1^2*x2^3 - 2*x0^5*x1^2 + 9*x0^4*x1^3, x0^4*x1^2*x2^2 - 12*x0^3*x1^2*x2^3 - 4*x0^4*x1*x2^2 + 13*x0^3*x1^2*x2^2 - 10*x0^3*x1*x2^3, x0^5*x1*x2^2 - 12*x0^4*x1*x2^3 - 4*x0^5*x2^2 + 13*x0^4*x1*x2^2 - 10*x0^4*x2^3, x0^6*x2^2 - 3*x0^5*x1*x2^2 - 7*x0^4*x1^2*x2^2 + 13*x0^3*x1^3*x2^2 - 4*x0^5*x2^3, x0*x1^6*x2 + 6*x0^6*x2^2 + 11*x0^5*x1*x2^2 + 6*x0^4*x1^2*x2^2 - 6*x0^3*x1^3*x2^2, x0^2*x1^5*x2 + x0^6*x2^2 + 2*x0^5*x1*x2^2 - 10*x0^4*x1^2*x2^2 + 12*x0^3*x1^3*x2^2, x0^3*x1^4*x2 + 15*x0^6*x2^2 - 8*x0^5*x1*x2^2 + 2*x0^4*x1^2*x2^2 + 10*x0^3*x1^3*x2^2, x0^4*x1^3*x2 - 12*x0^3*x1^3*x2^2 - 4*x0^4*x1^2*x2 + 13*x0^3*x1^3*x2 - 10*x0^3*x1^2*x2^2, x0^5*x1^2*x2 - 12*x0^4*x1^2*x2^2 - 4*x0^5*x1*x2 + 13*x0^4*x1^2*x2 - 10*x0^4*x1*x2^2, x0^6*x1*x2 - 12*x0^5*x1*x2^2 - 4*x0^6*x2 + 13*x0^5*x1*x2 - 10*x0^5*x2^2, x0^7*x2 + 3*x0^6*x1*x2 - 4*x0^6*x2^2 + x0^5*x2^3 + 9*x0^3*x2^5, x0^2*x1^6 + 3*x0^7*x2 - x0^6*x1*x2 - 7*x0^5*x1^2*x2 + 4*x0^4*x1^3*x2, x0^3*x1^5 - 9*x0^6*x1*x2 - 15*x0^5*x1^2*x2 + 3*x0^4*x1^3*x2 + 13*x0^3*x1^4*x2, x0^4*x1^4 - 12*x0^3*x1^4*x2 - 4*x0^4*x1^3 + 13*x0^3*x1^4 - 10*x0^3*x1^3*x2, x0^5*x1^3 + 2*x0^5*x1^2*x2 + 4*x0^5*x1*x2^2 - 13*x0^5*x1^2 + 7*x0^4*x1^3, x0^6*x1^2 - 12*x0^5*x1^2*x2 - 4*x0^6*x1 + 13*x0^5*x1^2 - 10*x0^5*x1*x2, x0^7*x1 - 12*x0^6*x1*x2 - 4*x0^7 + 13*x0^6*x1 - 10*x0^6*x2, x0^8 + 3*x0^7*x1 - 4*x0^7*x2 + x0^6*x2^2 + 9*x0^4*x2^4, x0^2*x2^7 - 10*x0^8 + 2*x0^7*x1 + 6*x0^6*x1^2 - 4*x0^5*x1^3, x0*x1^2*x2^6 - 11*x0^2*x2^7 - 11*x0^8 + 8*x0^7*x1 + 4*x0^6*x1^2, x0^2*x1*x2^6 + 14*x0^2*x2^7 - 8*x0^8 - 14*x0^7*x1 - 6*x0^6*x1^2, x0^3*x2^6 + 11*x0^2*x1*x2^6 - 12*x0*x1^2*x2^6 + 15*x0^2*x2^7 - 8*x0^8, x0*x1^3*x2^5 + 6*x0^2*x1*x2^6 - x0^2*x2^7 + 13*x0^8 + 5*x0^7*x1, x0^2*x1^2*x2^5 + 15*x0^2*x1*x2^6 + 5*x0^7*x2 - 15*x0^6*x1*x2 + 14*x0^5*x1^2*x2, x0^3*x1*x2^5 - 10*x0^8 - 3*x0^7*x1 - 2*x0^6*x1^2 - 15*x0^5*x1^3, x0^4*x2^5 + 10*x0^3*x1*x2^5 + 7*x0^2*x1^2*x2^5 + 15*x0^3*x2^6 + 3*x0^2*x1*x2^6]\n"
     ]
    }
   ],
   "source": [
    "from src.dataset.processors.utils import sequence_to_poly\n",
    "from sage.all import PolynomialRing, GF\n",
    "\n",
    "sample = test_dataset[0]\n",
    "print(f'sample input sequence:\\n {sample[\"input\"]}')\n",
    "\n",
    "ring = PolynomialRing(GF(int(config.field[2:])), 'x', config.num_variables, order='degrevlex')\n",
    "input_seq = sample['input']\n",
    "L_seq, V_seq = input_seq.split(' [BIGSEP] ')\n",
    "\n",
    "L = [sequence_to_poly(l, ring) for l in L_seq.split('[SEP]')]\n",
    "V = [sequence_to_poly(v, ring) for v in V_seq.split('[SEP]')]\n",
    "\n",
    "print(f'sample input: \\n L: {L}\\n V: {V}')"
   ]
  },
  {
   "cell_type": "markdown",
   "metadata": {},
   "source": [
    "### Oracle"
   ]
  },
  {
   "cell_type": "code",
   "execution_count": 12,
   "metadata": {},
   "outputs": [
    {
     "name": "stdout",
     "output_type": "stream",
     "text": [
      "/app\n"
     ]
    },
    {
     "name": "stderr",
     "output_type": "stream",
     "text": [
      "/app/src/loader/checkpoint.py:68: FutureWarning: You are using `torch.load` with `weights_only=False` (the current default value), which uses the default pickle module implicitly. It is possible to construct malicious pickle data which will execute arbitrary code during unpickling (See https://github.com/pytorch/pytorch/blob/main/SECURITY.md#untrusted-models for more details). In a future release, the default value for `weights_only` will be flipped to `True`. This limits the functions that could be executed during unpickling. Arbitrary objects will no longer be allowed to be loaded via this mode unless they are explicitly allowlisted by the user via `torch.serialization.add_safe_globals`. We recommend you start setting `weights_only=True` for any use case where you don't have full control of the loaded file. Please open an issue on GitHub for any issues related to this experimental feature.\n",
      "  model_state_dict = torch.load(os.path.join(checkpoint_path, f'pytorch_model.bin'))\n"
     ]
    }
   ],
   "source": [
    "from src.oracle.transformer_oracle import TransformerOracle\n",
    "\n",
    "oracle = TransformerOracle(ring, save_path, leading_term_k=config.num_leading_terms)"
   ]
  },
  {
   "cell_type": "code",
   "execution_count": 13,
   "metadata": {},
   "outputs": [
    {
     "data": {
      "text/plain": [
       "[(x0, x0*x1^2*x2^4),\n",
       " (x0, x0^2*x1*x2^4),\n",
       " (x2, x0^2*x1*x2^4),\n",
       " (x0, x0^3*x2^4),\n",
       " (x1, x0^3*x2^4),\n",
       " (x2, x0^3*x2^4),\n",
       " (x0, x1^4*x2^3),\n",
       " (x2, x1^4*x2^3),\n",
       " (x0, x0*x1^3*x2^3),\n",
       " (x1, x0*x1^3*x2^3),\n",
       " (x2, x0*x1^3*x2^3),\n",
       " (x0, x0^2*x1^2*x2^3),\n",
       " (x1, x0^2*x1^2*x2^3),\n",
       " (x2, x0^2*x1^2*x2^3),\n",
       " (x0, x0^3*x1*x2^3),\n",
       " (x1, x0^3*x1*x2^3),\n",
       " (x2, x0^3*x1*x2^3),\n",
       " (x0, x0^4*x2^3),\n",
       " (x1, x0^4*x2^3),\n",
       " (x2, x0^4*x2^3),\n",
       " (x0, x1^5*x2^2),\n",
       " (x2, x1^5*x2^2),\n",
       " (x0, x0*x1^4*x2^2),\n",
       " (x1, x0*x1^4*x2^2),\n",
       " (x2, x0*x1^4*x2^2),\n",
       " (x0, x0^2*x1^3*x2^2),\n",
       " (x1, x0^2*x1^3*x2^2),\n",
       " (x2, x0^2*x1^3*x2^2),\n",
       " (x0, x0^3*x1^2*x2^2),\n",
       " (x1, x0^3*x1^2*x2^2),\n",
       " (x2, x0^3*x1^2*x2^2),\n",
       " (x0, x0^5*x2^2),\n",
       " (x1, x0^5*x2^2),\n",
       " (x2, x0^5*x2^2),\n",
       " (x0, x1^6*x2),\n",
       " (x2, x1^6*x2),\n",
       " (x0, x0*x1^5*x2),\n",
       " (x1, x0*x1^5*x2),\n",
       " (x2, x0*x1^5*x2),\n",
       " (x0, x0^2*x1^4*x2),\n",
       " (x1, x0^2*x1^4*x2),\n",
       " (x2, x0^2*x1^4*x2),\n",
       " (x0, x0^3*x1^3*x2),\n",
       " (x1, x0^3*x1^3*x2),\n",
       " (x2, 1)]"
      ]
     },
     "execution_count": 13,
     "metadata": {},
     "output_type": "execute_result"
    }
   ],
   "source": [
    "oracle.predict(L, V)"
   ]
  }
 ],
 "metadata": {
  "kernelspec": {
   "display_name": "venv-python3.10",
   "language": "python",
   "name": "python3"
  },
  "language_info": {
   "codemirror_mode": {
    "name": "ipython",
    "version": 3
   },
   "file_extension": ".py",
   "mimetype": "text/x-python",
   "name": "python",
   "nbconvert_exporter": "python",
   "pygments_lexer": "ipython3",
   "version": "3.10.12"
  }
 },
 "nbformat": 4,
 "nbformat_minor": 2
}
